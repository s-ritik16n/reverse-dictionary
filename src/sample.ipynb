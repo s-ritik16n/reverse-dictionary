{
 "cells": [
  {
   "cell_type": "markdown",
   "metadata": {},
   "source": [
    "df_definitions  --> defintions.csv\n",
    "\n",
    "df_1000 --> 1000.csv\n",
    "\n",
    "df_1000_plus --> 1000_plus.csv\n",
    "\n",
    "df_nf --> nf.csv\n",
    "\n",
    "df_nf_post_plural --> nf_post_plural.csv"
   ]
  },
  {
   "cell_type": "code",
   "execution_count": 67,
   "metadata": {},
   "outputs": [],
   "source": [
    "import pandas as pd\n",
    "from lib.connect_db import get_engine\n",
    "from lib.print_error import print_error\n",
    "from nltk.corpus import stopwords\n",
    "import inflect\n",
    "from textblob import TextBlob, Word\n",
    "p = inflect.engine()"
   ]
  },
  {
   "cell_type": "code",
   "execution_count": 58,
   "metadata": {},
   "outputs": [],
   "source": [
    "df_definitions = pd.read_csv(\"db/definitions.csv\", names=[\"word\",\"definition\"], sep=\":\", index_col=None, keep_default_na=False, na_values=[\"\"])\n",
    "df_1000 = None\n",
    "df_1000_plus = None\n",
    "df_nf = pd.DataFrame(columns=[\"word\"], index=None)\n",
    "df_nf_post_plural = None"
   ]
  },
  {
   "cell_type": "markdown",
   "metadata": {},
   "source": [
    "### tasks#1\n",
    "\n",
    "+ extract 1000 rows from df_definitions\n",
    "+ save to 1000.csv,\n",
    "+ initialize df_1000"
   ]
  },
  {
   "cell_type": "code",
   "execution_count": 59,
   "metadata": {},
   "outputs": [],
   "source": [
    "df_1000 = df_definitions[:1000]\n",
    "df_1000.to_csv(\"db/sample/1000.csv\", sep=\":\", columns=[\"word\",\"definition\"], header=False, index=False, mode=\"w\")"
   ]
  },
  {
   "cell_type": "markdown",
   "metadata": {},
   "source": [
    "### tasks#2\n",
    "\n",
    "+ split each definition in df_1000 into words\n",
    "+ check if word exists as a row in df_1000\n",
    "+ if it doesn't - check if it exists in df_definitions\n",
    "+ if it does - fetch the row - add to df_1000\n",
    "+ it it doesn't - create data frame df_nf\n",
    "+ save updated df_1000 to sample/1000_plus.csv\n",
    "+ save df_nf to sample/nf.csv"
   ]
  },
  {
   "cell_type": "code",
   "execution_count": 60,
   "metadata": {},
   "outputs": [
    {
     "name": "stdout",
     "output_type": "stream",
     "text": [
      "df_1000 before applying split_and_check - \n",
      "<class 'pandas.core.frame.DataFrame'>\n",
      "RangeIndex: 1000 entries, 0 to 999\n",
      "Data columns (total 2 columns):\n",
      "word          1000 non-null object\n",
      "definition    1000 non-null object\n",
      "dtypes: object(2)\n",
      "memory usage: 15.7+ KB\n",
      "None\n",
      "\n",
      "df_1000 after applying split_and_check -  \n",
      "<class 'pandas.core.frame.DataFrame'>\n",
      "RangeIndex: 5994 entries, 0 to 5993\n",
      "Data columns (total 2 columns):\n",
      "word          5994 non-null object\n",
      "definition    5994 non-null object\n",
      "dtypes: object(2)\n",
      "memory usage: 93.7+ KB\n",
      "None\n",
      "\n",
      "df_nf contains words which were not found.\n",
      "df_nf - \n",
      "<class 'pandas.core.frame.DataFrame'>\n",
      "RangeIndex: 706 entries, 0 to 705\n",
      "Data columns (total 1 columns):\n",
      "word    706 non-null object\n",
      "dtypes: object(1)\n",
      "memory usage: 5.6+ KB\n",
      "None\n"
     ]
    }
   ],
   "source": [
    "def split_and_check(row):\n",
    "    global df_1000\n",
    "    global df_nf\n",
    "    index = row.name\n",
    "    for word in row.definition.split():\n",
    "        if not any(df_1000[\"word\"] == word):\n",
    "            if any(df_definitions[\"word\"] == word):\n",
    "#                 fix this line\n",
    "                df_1000 = df_1000.append(df_definitions.loc[df_definitions[\"word\"] == word], ignore_index=True)\n",
    "            else:\n",
    "                df_nf = df_nf.append({\"word\": word}, ignore_index=True)\n",
    "    return\n",
    "\n",
    "print(\"df_1000 before applying split_and_check - \")\n",
    "print(df_1000.info())\n",
    "\n",
    "df_1000.apply(split_and_check, axis=1)\n",
    "print(\"\\ndf_1000 after applying split_and_check -  \")\n",
    "print(df_1000.info())\n",
    "\n",
    "print(\"\\ndf_nf contains words which were not found.\\ndf_nf - \")\n",
    "print(df_nf.info())"
   ]
  },
  {
   "cell_type": "code",
   "execution_count": 61,
   "metadata": {},
   "outputs": [],
   "source": [
    "df_1000.to_csv(\"db/sample/1000_plus.csv\", sep=\":\", columns=[\"word\",\"definition\"], header=False, index=False, mode=\"w\")"
   ]
  },
  {
   "cell_type": "code",
   "execution_count": 62,
   "metadata": {},
   "outputs": [],
   "source": [
    "df_nf.to_csv(\"db/sample/not_found.csv\", sep=\":\", columns=[\"word\"], header=False, index=False, mode=\"w\")"
   ]
  },
  {
   "cell_type": "markdown",
   "metadata": {},
   "source": [
    "### tasks#3\n",
    "\n",
    "+ take each word from df_nf and fetch its singular\n",
    "+ if the singular word exists in df_definitions along with its definition - add plural_word: definition to df_1000\n",
    "+ remove it from df_nf\n",
    "+ write df_nf to not_found_post_plural\n",
    "+ write df_1000 to 1000_plus_plural"
   ]
  },
  {
   "cell_type": "code",
   "execution_count": 65,
   "metadata": {},
   "outputs": [
    {
     "name": "stdout",
     "output_type": "stream",
     "text": [
      "df_1000 before checking for singular nouns-\n",
      "<class 'pandas.core.frame.DataFrame'>\n",
      "RangeIndex: 5994 entries, 0 to 5993\n",
      "Data columns (total 2 columns):\n",
      "word          5994 non-null object\n",
      "definition    5994 non-null object\n",
      "dtypes: object(2)\n",
      "memory usage: 93.7+ KB\n",
      "None\n",
      "******************************\n",
      "\n",
      "df_1000 after adding words with singular nouns present -\n",
      "<class 'pandas.core.frame.DataFrame'>\n",
      "RangeIndex: 6191 entries, 0 to 6190\n",
      "Data columns (total 2 columns):\n",
      "word          6191 non-null object\n",
      "definition    6191 non-null object\n",
      "dtypes: object(2)\n",
      "memory usage: 96.8+ KB\n",
      "None\n",
      "******************************\n",
      "\n",
      "df_nf after removing singular occurences of plurals - \n",
      "<class 'pandas.core.frame.DataFrame'>\n",
      "RangeIndex: 509 entries, 0 to 508\n",
      "Data columns (total 2 columns):\n",
      "index    509 non-null int64\n",
      "word     509 non-null object\n",
      "dtypes: int64(1), object(1)\n",
      "memory usage: 8.0+ KB\n",
      "None\n",
      "******************************\n"
     ]
    }
   ],
   "source": [
    "def check_singular_noun(row):\n",
    "    global df_1000\n",
    "    global df_nf\n",
    "    index = row.name\n",
    "    singular = p.singular_noun(row[\"word\"])\n",
    "    if any(df_definitions[\"word\"] == singular):\n",
    "        df_1000 = df_1000.append({\"word\": row[\"word\"], \"definition\": df_definitions.loc[df_definitions[\"word\"] == singular][\"definition\"]}, ignore_index=True)\n",
    "        df_nf = df_nf.drop(index)\n",
    "    return\n",
    "\n",
    "print(\"df_1000 before checking for singular nouns-\")\n",
    "print(df_1000.info())\n",
    "print(\"*\"*30)\n",
    "\n",
    "df_nf.apply(check_singular_noun, axis=1)\n",
    "\n",
    "print(\"\\ndf_1000 after adding words with singular nouns present -\")\n",
    "print(df_1000.info())\n",
    "print(\"*\"*30)\n",
    "\n",
    "df_nf = df_nf.reset_index()\n",
    "print(\"\\ndf_nf after removing singular occurences of plurals - \")\n",
    "print(df_nf.info())\n",
    "print(\"*\"*30)"
   ]
  },
  {
   "cell_type": "code",
   "execution_count": 66,
   "metadata": {},
   "outputs": [],
   "source": [
    "df_1000.to_csv(\"db/sample/1000_plus_plural.csv\", sep=\":\", columns=[\"word\",\"definition\"], header=False, index=False, mode=\"w\")\n",
    "df_nf.to_csv(\"db/sample/not_found_post_plural.csv\", sep=\":\", columns=[\"word\"], header=False, index=False, mode=\"w\")"
   ]
  },
  {
   "cell_type": "markdown",
   "metadata": {},
   "source": [
    "### tasks#4 (didn't help)\n",
    "\n",
    "+ convert each word in df_nf to its lemmatized form\n",
    "+ check if this word exists as a row in df_definitions\n",
    "+ if exits - append to df_1000, remove from df_nf\n",
    "+ save df_1000 to 1000_plus_plural_lemma.csv\n",
    "+ save df_nf to not_found_plural_lemma.csv"
   ]
  },
  {
   "cell_type": "code",
   "execution_count": 71,
   "metadata": {},
   "outputs": [
    {
     "name": "stdout",
     "output_type": "stream",
     "text": [
      "df_1000 before checking for lemma -\n",
      "<class 'pandas.core.frame.DataFrame'>\n",
      "RangeIndex: 6191 entries, 0 to 6190\n",
      "Data columns (total 2 columns):\n",
      "word          6191 non-null object\n",
      "definition    6191 non-null object\n",
      "dtypes: object(2)\n",
      "memory usage: 96.8+ KB\n",
      "None\n",
      "******************************\n",
      "\n",
      "df_1000 after adding words with lemmas present -\n",
      "<class 'pandas.core.frame.DataFrame'>\n",
      "RangeIndex: 6191 entries, 0 to 6190\n",
      "Data columns (total 2 columns):\n",
      "word          6191 non-null object\n",
      "definition    6191 non-null object\n",
      "dtypes: object(2)\n",
      "memory usage: 96.8+ KB\n",
      "None\n",
      "******************************\n",
      "\n",
      "df_nf after removing occurences of lemmas - \n",
      "<class 'pandas.core.frame.DataFrame'>\n",
      "RangeIndex: 509 entries, 0 to 508\n",
      "Data columns (total 3 columns):\n",
      "level_0    509 non-null int64\n",
      "index      509 non-null int64\n",
      "word       509 non-null object\n",
      "dtypes: int64(2), object(1)\n",
      "memory usage: 12.0+ KB\n",
      "None\n",
      "******************************\n"
     ]
    }
   ],
   "source": [
    "def check_lemma(row):\n",
    "    global df_1000\n",
    "    global df_nf\n",
    "    index = row.name\n",
    "    lemma = Word(row[\"word\"]).lemmatize()\n",
    "    if any(df_definitions[\"word\"] == lemma):\n",
    "        print(lemma)\n",
    "        df_1000 = df_1000.append({\"word\":row[\"word\"], \"definition\": df_definitions.loc[df_definitions[\"word\"] == lemma][\"definition\"]}, ignore_index=True)\n",
    "        df_nf = df_nf.drop(index)\n",
    "    return\n",
    "\n",
    "print(\"df_1000 before checking for lemma -\")\n",
    "print(df_1000.info())\n",
    "print(\"*\"*30)\n",
    "\n",
    "df_nf.apply(check_lemma, axis=1)\n",
    "\n",
    "print(\"\\ndf_1000 after adding words with lemmas present -\")\n",
    "print(df_1000.info())\n",
    "print(\"*\"*30)\n",
    "\n",
    "# df_nf = df_nf.reset_index()\n",
    "print(\"\\ndf_nf after removing occurences of lemmas - \")\n",
    "print(df_nf.info())\n",
    "print(\"*\"*30)"
   ]
  },
  {
   "cell_type": "code",
   "execution_count": null,
   "metadata": {},
   "outputs": [],
   "source": []
  }
 ],
 "metadata": {
  "kernelspec": {
   "display_name": "Environment (conda_revdict)",
   "language": "python",
   "name": "conda_revdict"
  },
  "language_info": {
   "codemirror_mode": {
    "name": "ipython",
    "version": 3
   },
   "file_extension": ".py",
   "mimetype": "text/x-python",
   "name": "python",
   "nbconvert_exporter": "python",
   "pygments_lexer": "ipython3",
   "version": "3.6.4"
  }
 },
 "nbformat": 4,
 "nbformat_minor": 2
}
