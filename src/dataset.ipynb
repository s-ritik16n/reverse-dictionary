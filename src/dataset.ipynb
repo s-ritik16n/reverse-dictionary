{
 "cells": [
  {
   "cell_type": "markdown",
   "metadata": {},
   "source": [
    "# __creating and cleaning dataset - definitions.csv__\n",
    "1. [creating dataset - definitions.csv](#creating-definitions.csv)\n",
    "2. [drop words without definitions and definitions without words](#drop-words-without-definitions-and-definitions-without-words)\n",
    "3. [remove special characters](#remove-special-characters)\n",
    "    * [retrieve special characters](#retrieve-special-characters)\n",
    "    * [delete special characters](#delete-special-characters)\n",
    "4. [extract words without definition from dataset and save to missing-words.csv](#extract-words-from-definitions-which-have-no-definition-in-dataset-and-save-to-missing-words.csv)"
   ]
  },
  {
   "cell_type": "markdown",
   "metadata": {},
   "source": [
    "### creating definitions.csv\n",
    "---"
   ]
  },
  {
   "cell_type": "code",
   "execution_count": 1,
   "metadata": {},
   "outputs": [],
   "source": [
    "import pandas as pd\n",
    "from lib.connect_db import get_engine\n",
    "from lib.print_error import print_error\n",
    "from nltk.corpus import stopwords"
   ]
  },
  {
   "cell_type": "code",
   "execution_count": null,
   "metadata": {},
   "outputs": [],
   "source": [
    "engine, meta = get_engine()\n",
    "\n",
    "df = pd.read_sql(\"definitions\", engine)\n",
    "df.to_csv(\"db/definitions.csv\", sep=\":\", columns = [\"word\", \"definition\"], header = False, index=False, mode = \"w\")"
   ]
  },
  {
   "cell_type": "markdown",
   "metadata": {},
   "source": [
    "### drop words without definitions and definitions without words\n",
    "---"
   ]
  },
  {
   "cell_type": "code",
   "execution_count": null,
   "metadata": {},
   "outputs": [],
   "source": [
    "df = pd.read_csv(\"db/definitions.csv\", names=[\"word\",\"definition\"], sep=\":\", index_col=None, keep_default_na=False, na_values=[\"\"])\n",
    "words = pd.DataFrame(columns=[\"word\"], index=None)\n",
    "\n",
    "ww = pd.isnull(df['word'])\n",
    "\n",
    "null_word_indices = []\n",
    "for id,w in enumerate(ww):\n",
    "    if w is True:\n",
    "        null_word_indices.append(id)\n",
    "\n",
    "dd = pd.isnull(df['definition'])\n",
    "null_def_indices = []\n",
    "for id,d in enumerate(dd):\n",
    "    if d is True:\n",
    "        null_def_indices.append(id)\n",
    "\n",
    "for el in null_word_indices:\n",
    "    if el in null_def_indices:\n",
    "        null_def_indices.remove(el)\n",
    "\n",
    "print(\"df info before deletion - \")\n",
    "print(df.info())\n",
    "print(\"\\n\")\n",
    "\n",
    "df = df.drop(null_word_indices, inplace=False)\n",
    "df = df.drop(null_def_indices, inplace=False)\n",
    "df = df.reset_index(drop=True)\n",
    "\n",
    "print(\"df info after deletion - \")\n",
    "print(\"*\"*10)\n",
    "print(df.info())\n",
    "\n",
    "df.to_csv(\"db/definitions.csv\", sep=\":\", columns=[\"word\",\"definition\"], header=False, index=False, mode=\"w\")\n"
   ]
  },
  {
   "cell_type": "markdown",
   "metadata": {},
   "source": [
    "### remove special characters\n",
    "---\n",
    "this section is divided into two parts -\n",
    "* retrieve special characters\n",
    "* delete special characters"
   ]
  },
  {
   "cell_type": "markdown",
   "metadata": {},
   "source": [
    "### retrieve special characters"
   ]
  },
  {
   "cell_type": "code",
   "execution_count": null,
   "metadata": {},
   "outputs": [],
   "source": [
    "df = pd.read_csv(\"db//definitions.csv\", names=['word','definition'], sep=\":\", index_col=None, keep_default_na=False, na_values=[\"\"])\n",
    "\n",
    "special_chars = []\n",
    "\n",
    "\n",
    "def get_special_chars(defi):\n",
    "    for d in list(defi):\n",
    "        if (ord(d) < 48 and ord(d) != 32) or (ord(d) > 57 and ord(d)<65) or (ord(d) >90 and ord(d) < 97) or ord(d) > 122:\n",
    "            if d not in special_chars:\n",
    "                special_chars.append(d)\n",
    "    return\n",
    "\n",
    "df[\"definition\"].apply(get_special_chars)\n",
    "\n",
    "special_chars.remove(\";\")\n",
    "\n",
    "print(special_chars)\n"
   ]
  },
  {
   "cell_type": "markdown",
   "metadata": {},
   "source": [
    "### delete special characters"
   ]
  },
  {
   "cell_type": "code",
   "execution_count": null,
   "metadata": {},
   "outputs": [],
   "source": [
    "df = pd.read_csv(\"db/definitions.csv\", names=['word','definition'], sep=\":\", index_col=None, keep_default_na=False, na_values=[\"\"])\n",
    "\n",
    "def remove_special_chars(defi):\n",
    "    for s in special_chars:\n",
    "        defi = \" \".join(defi.split(s))\n",
    "    index = 0\n",
    "    defi = list(defi)\n",
    "    while index < len(defi)-1:\n",
    "        if defi[index] == \" \" and defi[index+1] == \" \":\n",
    "            del defi[index]\n",
    "        else:\n",
    "            index += 1\n",
    "    return \"\".join(defi)\n",
    "\n",
    "\n",
    "df[\"definition\"] = df[\"definition\"].apply(remove_special_chars)\n",
    "df.to_csv(\"db/definitions.csv\", sep=\":\", columns=[\"word\",\"definition\"], header=False, index=False, mode=\"w\")"
   ]
  },
  {
   "cell_type": "markdown",
   "metadata": {},
   "source": [
    "### split definitions based on ';'\n",
    "---"
   ]
  },
  {
   "cell_type": "code",
   "execution_count": null,
   "metadata": {},
   "outputs": [],
   "source": [
    "df = pd.read_csv(\"db/definitions.csv\", names=[\"word\",\"definition\"], sep=\":\", index_col=None, keep_default_na=False, na_values=[\"\"])\n",
    "final_df = pd.DataFrame(columns=[\"word\",\"definition\"], index=None)\n",
    "\n",
    "print(df.info())\n",
    "print(\"*\"*20)\n",
    "\n",
    "drop_indices = []\n",
    "\n",
    "def split_defs(row):\n",
    "    global final_df, df\n",
    "    \n",
    "    index = row.name\n",
    "    definition = row['definition']\n",
    "    definition_list = list(definition)\n",
    "    \n",
    "    if \";\" in definition_list:\n",
    "        drop_indices.append(index)\n",
    "        new_definitions = definition.split(\";\")\n",
    "        new_definitions = [d.strip() for d in new_definitions]\n",
    "        # index = df.loc[df[\"definition\"] == definition][\"word\"].index\n",
    "        # index = index[0]\n",
    "        for dd in new_definitions:\n",
    "            final_df = final_df.append({\"word\":df.word[index], \"definition\":dd}, ignore_index=True)\n",
    "\n",
    "            \n",
    "df.apply(split_defs,axis=1)\n",
    "\n",
    "print(\"\\n\")\n",
    "print(\"total words splitted: \", str(len(drop_indices)))\n",
    "print(\"\\n\")\n",
    "\n",
    "df = df.drop(drop_indices)\n",
    "df = df.reset_index()\n",
    "\n",
    "\n",
    "print(\"*\"*20)\n",
    "print(\"resultant df - \")\n",
    "print(df.info())\n",
    "\n",
    "df.to_csv(\"db/definitions.csv\", sep=\":\", columns=[\"word\",\"definition\"], header=False, index=False, mode=\"w\")\n",
    "\n",
    "final_df.to_csv(\"db/split-definitions.csv\", sep=\":\", columns=[\"word\",\"definition\"], header=False, index=False, mode=\"w\")\n",
    "print(\"*\"*20)\n",
    "print(\"Done\")"
   ]
  },
  {
   "cell_type": "markdown",
   "metadata": {},
   "source": [
    "### concat definitons.csv and split-definitions.csv"
   ]
  },
  {
   "cell_type": "code",
   "execution_count": null,
   "metadata": {},
   "outputs": [],
   "source": [
    "def concat_dfs(dfs):\n",
    "    for df in dfs:\n",
    "        print(\"\\n\")\n",
    "        print(split_df.info())\n",
    "        print(\"*\"*20)\n",
    "\n",
    "    print(\"\\nconcatenating dfs..\")\n",
    "    return pd.concat(dfs)"
   ]
  },
  {
   "cell_type": "code",
   "execution_count": null,
   "metadata": {},
   "outputs": [],
   "source": [
    "split_df = pd.read_csv(\"db/split-definitions.csv\", names=[\"word\",\"definition\"], sep=\":\", index_col=None, keep_default_na=False, na_values=[\"\"])\n",
    "df = pd.read_csv(\"db/definitions.csv\", names=[\"word\",\"definition\"], sep=\":\", index_col=None, keep_default_na=False, na_values=[\"\"])\n",
    "\n",
    "resultant_df = concat_dfs([split_df, df])\n",
    "resultant_df.to_csv(\"db/definitions.csv\", sep=\":\", columns=[\"word\",\"definition\"], header=False, index=False, mode=\"w\")"
   ]
  },
  {
   "cell_type": "markdown",
   "metadata": {},
   "source": [
    "### remove words without definitions\n",
    "\n",
    "the code already exists [above](#drop-words-without-definitions-and-definitions-without-words). Re-run it to remove null values\n",
    "\n",
    "\n"
   ]
  },
  {
   "cell_type": "markdown",
   "metadata": {},
   "source": [
    "###  extract words from column definition which have no definition in dataset; save to missing-words.csv\n",
    "---\n",
    "\n",
    "#### Tasks\n",
    "- create a dataset by splitting definition column and obtaining all columns\n",
    "- remove numbers from the dataset\n",
    "- convert all words to lowercase in all datasets obtained\n",
    "- remove words whose meaning exists\n",
    "- stem words"
   ]
  },
  {
   "cell_type": "markdown",
   "metadata": {},
   "source": [
    "### create a dataset by splitting definition column and obtaining all columns"
   ]
  },
  {
   "cell_type": "code",
   "execution_count": null,
   "metadata": {
    "slideshow": {
     "slide_type": "-"
    }
   },
   "outputs": [],
   "source": [
    "df = pd.read_csv(\"db/definitions.csv\", names=[\"word\",\"definition\"], sep=\":\", index_col=None, keep_default_na=False, na_values=[\"\"])\n",
    "\n",
    "print(df.info())\n",
    "print(\"*\"*20)\n",
    "\n",
    "def missing_words(definition):\n",
    "    for d in str(definition).split():\n",
    "        defi_df = pd.DataFrame(columns=[\"words\"], index=None)\n",
    "        defi_df = defi_df.append({\"words\":d}, ignore_index=True)\n",
    "        defi_df.to_csv(\"db/missing-defs-temp.csv\", sep=\":\", columns=[\"word\"], header=False, index=False, mode=\"a\")        \n",
    "    \n",
    "df[\"definition\"].apply(missing_words)"
   ]
  },
  {
   "cell_type": "markdown",
   "metadata": {},
   "source": [
    "### remove numbers from the dataset"
   ]
  },
  {
   "cell_type": "code",
   "execution_count": 51,
   "metadata": {},
   "outputs": [],
   "source": [
    "drop_indices_of_int = []\n",
    "def treat_numbers(row):\n",
    "    index = row.name\n",
    "    try:\n",
    "        int(row[\"word\"])\n",
    "        drop_indices_of_int.append(index)\n",
    "    except ValueError:\n",
    "        pass\n",
    "    return\n",
    "\n",
    "def treat_numbers_caller(df):\n",
    "    df.apply(treat_numbers, axis=1)\n",
    "    return"
   ]
  },
  {
   "cell_type": "code",
   "execution_count": 55,
   "metadata": {},
   "outputs": [
    {
     "name": "stdout",
     "output_type": "stream",
     "text": [
      "<class 'pandas.core.frame.DataFrame'>\n",
      "RangeIndex: 730344 entries, 0 to 730343\n",
      "Data columns (total 1 columns):\n",
      "word    730344 non-null object\n",
      "dtypes: object(1)\n",
      "memory usage: 5.6+ MB\n",
      "None\n",
      "********************\n",
      "after removing numbers - \n",
      "<class 'pandas.core.frame.DataFrame'>\n",
      "RangeIndex: 719846 entries, 0 to 719845\n",
      "Data columns (total 2 columns):\n",
      "index    719846 non-null int64\n",
      "word     719846 non-null object\n",
      "dtypes: int64(1), object(1)\n",
      "memory usage: 11.0+ MB\n",
      "None\n"
     ]
    }
   ],
   "source": [
    "df = pd.read_csv(\"db/missing-defs-temp.csv\", names=[\"word\"], sep=\":\", index_col=None, keep_default_na=False, na_values=[\"\"])\n",
    "print(df.info())\n",
    "print(\"*\"*20)\n",
    "\n",
    "treat_numbers_caller(df)\n",
    "\n",
    "df = df.drop(drop_indices_of_int)\n",
    "df = df.reset_index()\n",
    "print(\"\\nafter removing numbers - \\n\")\n",
    "print(df.info())\n",
    "df.to_csv(\"db/missing-defs-temp.csv\", sep=\":\", columns=[\"word\"], header=False, index=False, mode=\"w\")        "
   ]
  },
  {
   "cell_type": "markdown",
   "metadata": {},
   "source": [
    "### convert all words to lowercase"
   ]
  },
  {
   "cell_type": "code",
   "execution_count": 10,
   "metadata": {},
   "outputs": [
    {
     "name": "stdout",
     "output_type": "stream",
     "text": [
      "Data frames -\n",
      "\n",
      "db/definitions.csv\n",
      "******************************\n",
      "<class 'pandas.core.frame.DataFrame'>\n",
      "RangeIndex: 135949 entries, 0 to 135948\n",
      "Data columns (total 2 columns):\n",
      "word          135949 non-null object\n",
      "definition    135949 non-null object\n",
      "dtypes: object(2)\n",
      "memory usage: 2.1+ MB\n",
      "None\n",
      "******************************\n",
      "\n",
      "\n",
      "db/missing-defs-temp.csv\n",
      "******************************\n",
      "<class 'pandas.core.frame.DataFrame'>\n",
      "RangeIndex: 719846 entries, 0 to 719845\n",
      "Data columns (total 1 columns):\n",
      "word    719846 non-null object\n",
      "dtypes: object(1)\n",
      "memory usage: 5.5+ MB\n",
      "None\n",
      "******************************\n",
      "\n",
      "\n",
      "db/missing-defs.csv\n",
      "******************************\n",
      "<class 'pandas.core.frame.DataFrame'>\n",
      "RangeIndex: 13 entries, 0 to 12\n",
      "Data columns (total 1 columns):\n",
      "word    13 non-null object\n",
      "dtypes: object(1)\n",
      "memory usage: 184.0+ bytes\n",
      "None\n",
      "******************************\n",
      "\n",
      "\n"
     ]
    }
   ],
   "source": [
    "df_main = pd.read_csv(\"db/definitions.csv\", names=[\"word\",\"definition\"], sep=\":\", index_col=None, keep_default_na=False, na_values=[\"\"])\n",
    "df_1 = pd.read_csv(\"db/missing-defs-temp.csv\", names=[\"word\"], sep=\":\", index_col=None, keep_default_na=False, na_values=[\"\"])\n",
    "df_2 = pd.read_csv(\"db/missing-defs.csv\", names=[\"word\"], sep=\":\", index_col=None, keep_default_na=False, na_values=[\"\"])\n",
    "\n",
    "print(\"Data frames -\\n\")\n",
    "print(\"db/definitions.csv\")\n",
    "print(\"*\"*30)\n",
    "print(df_main.info())\n",
    "print(\"*\"*30)\n",
    "print(\"\\n\")\n",
    "\n",
    "print(\"db/missing-defs-temp.csv\")\n",
    "print(\"*\"*30)\n",
    "print(df_1.info())\n",
    "print(\"*\"*30)\n",
    "print(\"\\n\")\n",
    "\n",
    "print(\"db/missing-defs.csv\")\n",
    "print(\"*\"*30)\n",
    "print(df_2.info())\n",
    "print(\"*\"*30)\n",
    "print(\"\\n\")\n"
   ]
  },
  {
   "cell_type": "code",
   "execution_count": 11,
   "metadata": {},
   "outputs": [],
   "source": [
    "df_main[\"definition\"] = df_main[\"definition\"].str.lower()\n",
    "df_main[\"word\"] = df_main[\"word\"].str.lower()\n",
    "\n",
    "df_1[\"word\"] = df_1[\"word\"].str.lower()\n",
    "\n",
    "df_2[\"word\"] = df_2[\"word\"].str.lower()"
   ]
  },
  {
   "cell_type": "code",
   "execution_count": 12,
   "metadata": {},
   "outputs": [],
   "source": [
    "df_main.to_csv(\"db/definitions.csv\", sep=\":\", columns=[\"word\",\"definition\"], header=False, index=False, mode=\"w\")\n",
    "df_1.to_csv(\"db/missing-defs-temp.csv\", sep=\":\", columns=[\"word\"], header=False, index=False, mode=\"w\")\n",
    "df_2.to_csv(\"db/missing-defs.csv\", sep=\":\", columns=[\"word\"], header=False, index=False, mode=\"w\")"
   ]
  },
  {
   "cell_type": "markdown",
   "metadata": {},
   "source": [
    "#### remove words from missing-defs-temp which exist in definitions"
   ]
  },
  {
   "cell_type": "code",
   "execution_count": 30,
   "metadata": {},
   "outputs": [],
   "source": [
    "df_main = pd.read_csv(\"db/definitions.csv\", names=[\"word\",\"definition\"], sep=\":\", index_col=None, keep_default_na=False, na_values=[\"\"])\n",
    "df = pd.read_csv(\"db/missing-defs-temp.csv\", names=[\"word\"], sep=\":\", index_col=None, keep_default_na=False, na_values=[\"\"])\n",
    "\n",
    "df_1 = df[:300000]\n",
    "df_2 = df[300000:]"
   ]
  },
  {
   "cell_type": "code",
   "execution_count": 29,
   "metadata": {},
   "outputs": [
    {
     "ename": "KeyboardInterrupt",
     "evalue": "",
     "output_type": "error",
     "traceback": [
      "\u001b[1;31m---------------------------------------------------------------------------\u001b[0m",
      "\u001b[1;31mKeyboardInterrupt\u001b[0m                         Traceback (most recent call last)",
      "\u001b[1;32m<ipython-input-29-41eb9507765a>\u001b[0m in \u001b[0;36m<module>\u001b[1;34m()\u001b[0m\n\u001b[0;32m      6\u001b[0m         \u001b[0mtemp_words\u001b[0m\u001b[1;33m.\u001b[0m\u001b[0mappend\u001b[0m\u001b[1;33m(\u001b[0m\u001b[0mindex\u001b[0m\u001b[1;33m)\u001b[0m\u001b[1;33m\u001b[0m\u001b[0m\n\u001b[0;32m      7\u001b[0m \u001b[1;33m\u001b[0m\u001b[0m\n\u001b[1;32m----> 8\u001b[1;33m \u001b[0mdf_1\u001b[0m\u001b[1;33m.\u001b[0m\u001b[0mapply\u001b[0m\u001b[1;33m(\u001b[0m\u001b[0mrm_nonexisting\u001b[0m\u001b[1;33m,\u001b[0m \u001b[0maxis\u001b[0m\u001b[1;33m=\u001b[0m\u001b[1;36m1\u001b[0m\u001b[1;33m)\u001b[0m\u001b[1;33m\u001b[0m\u001b[0m\n\u001b[0m\u001b[0;32m      9\u001b[0m \u001b[1;31m# df_1 = df_1.reset_index()\u001b[0m\u001b[1;33m\u001b[0m\u001b[1;33m\u001b[0m\u001b[0m\n\u001b[0;32m     10\u001b[0m \u001b[1;31m# print(\"df_1 after removing recurring words -\")\u001b[0m\u001b[1;33m\u001b[0m\u001b[1;33m\u001b[0m\u001b[0m\n",
      "\u001b[1;32m~\\AppData\\Local\\Continuum\\miniconda3\\envs\\revdict\\lib\\site-packages\\pandas\\core\\frame.py\u001b[0m in \u001b[0;36mapply\u001b[1;34m(self, func, axis, broadcast, raw, reduce, args, **kwds)\u001b[0m\n\u001b[0;32m   4875\u001b[0m                         \u001b[0mf\u001b[0m\u001b[1;33m,\u001b[0m \u001b[0maxis\u001b[0m\u001b[1;33m,\u001b[0m\u001b[1;33m\u001b[0m\u001b[0m\n\u001b[0;32m   4876\u001b[0m                         \u001b[0mreduce\u001b[0m\u001b[1;33m=\u001b[0m\u001b[0mreduce\u001b[0m\u001b[1;33m,\u001b[0m\u001b[1;33m\u001b[0m\u001b[0m\n\u001b[1;32m-> 4877\u001b[1;33m                         ignore_failures=ignore_failures)\n\u001b[0m\u001b[0;32m   4878\u001b[0m             \u001b[1;32melse\u001b[0m\u001b[1;33m:\u001b[0m\u001b[1;33m\u001b[0m\u001b[0m\n\u001b[0;32m   4879\u001b[0m                 \u001b[1;32mreturn\u001b[0m \u001b[0mself\u001b[0m\u001b[1;33m.\u001b[0m\u001b[0m_apply_broadcast\u001b[0m\u001b[1;33m(\u001b[0m\u001b[0mf\u001b[0m\u001b[1;33m,\u001b[0m \u001b[0maxis\u001b[0m\u001b[1;33m)\u001b[0m\u001b[1;33m\u001b[0m\u001b[0m\n",
      "\u001b[1;32m~\\AppData\\Local\\Continuum\\miniconda3\\envs\\revdict\\lib\\site-packages\\pandas\\core\\frame.py\u001b[0m in \u001b[0;36m_apply_standard\u001b[1;34m(self, func, axis, ignore_failures, reduce)\u001b[0m\n\u001b[0;32m   4931\u001b[0m                     \u001b[0mlabels\u001b[0m \u001b[1;33m=\u001b[0m \u001b[0mself\u001b[0m\u001b[1;33m.\u001b[0m\u001b[0m_get_agg_axis\u001b[0m\u001b[1;33m(\u001b[0m\u001b[0maxis\u001b[0m\u001b[1;33m)\u001b[0m\u001b[1;33m\u001b[0m\u001b[0m\n\u001b[0;32m   4932\u001b[0m                     result = lib.reduce(values, func, axis=axis, dummy=dummy,\n\u001b[1;32m-> 4933\u001b[1;33m                                         labels=labels)\n\u001b[0m\u001b[0;32m   4934\u001b[0m                     \u001b[1;32mreturn\u001b[0m \u001b[0mSeries\u001b[0m\u001b[1;33m(\u001b[0m\u001b[0mresult\u001b[0m\u001b[1;33m,\u001b[0m \u001b[0mindex\u001b[0m\u001b[1;33m=\u001b[0m\u001b[0mlabels\u001b[0m\u001b[1;33m)\u001b[0m\u001b[1;33m\u001b[0m\u001b[0m\n\u001b[0;32m   4935\u001b[0m                 \u001b[1;32mexcept\u001b[0m \u001b[0mException\u001b[0m\u001b[1;33m:\u001b[0m\u001b[1;33m\u001b[0m\u001b[0m\n",
      "\u001b[1;32mpandas/_libs/src\\reduce.pyx\u001b[0m in \u001b[0;36mpandas._libs.lib.reduce\u001b[1;34m()\u001b[0m\n",
      "\u001b[1;32mpandas/_libs/src\\reduce.pyx\u001b[0m in \u001b[0;36mpandas._libs.lib.Reducer.get_result\u001b[1;34m()\u001b[0m\n",
      "\u001b[1;32m<ipython-input-29-41eb9507765a>\u001b[0m in \u001b[0;36mrm_nonexisting\u001b[1;34m(row)\u001b[0m\n\u001b[0;32m      3\u001b[0m     \u001b[1;32mglobal\u001b[0m \u001b[0mdf_1\u001b[0m\u001b[1;33m\u001b[0m\u001b[0m\n\u001b[0;32m      4\u001b[0m     \u001b[0mindex\u001b[0m \u001b[1;33m=\u001b[0m \u001b[0mrow\u001b[0m\u001b[1;33m.\u001b[0m\u001b[0mname\u001b[0m\u001b[1;33m\u001b[0m\u001b[0m\n\u001b[1;32m----> 5\u001b[1;33m     \u001b[1;32mif\u001b[0m \u001b[0many\u001b[0m\u001b[1;33m(\u001b[0m\u001b[0mdf_main\u001b[0m\u001b[1;33m[\u001b[0m\u001b[1;34m\"word\"\u001b[0m\u001b[1;33m]\u001b[0m \u001b[1;33m==\u001b[0m \u001b[0mrow\u001b[0m\u001b[1;33m[\u001b[0m\u001b[1;34m\"word\"\u001b[0m\u001b[1;33m]\u001b[0m\u001b[1;33m)\u001b[0m\u001b[1;33m:\u001b[0m\u001b[1;33m\u001b[0m\u001b[0m\n\u001b[0m\u001b[0;32m      6\u001b[0m         \u001b[0mtemp_words\u001b[0m\u001b[1;33m.\u001b[0m\u001b[0mappend\u001b[0m\u001b[1;33m(\u001b[0m\u001b[0mindex\u001b[0m\u001b[1;33m)\u001b[0m\u001b[1;33m\u001b[0m\u001b[0m\n\u001b[0;32m      7\u001b[0m \u001b[1;33m\u001b[0m\u001b[0m\n",
      "\u001b[1;32m~\\AppData\\Local\\Continuum\\miniconda3\\envs\\revdict\\lib\\site-packages\\pandas\\core\\ops.py\u001b[0m in \u001b[0;36mwrapper\u001b[1;34m(self, other, axis)\u001b[0m\n\u001b[0;32m    877\u001b[0m \u001b[1;33m\u001b[0m\u001b[0m\n\u001b[0;32m    878\u001b[0m             \u001b[1;32mwith\u001b[0m \u001b[0mnp\u001b[0m\u001b[1;33m.\u001b[0m\u001b[0merrstate\u001b[0m\u001b[1;33m(\u001b[0m\u001b[0mall\u001b[0m\u001b[1;33m=\u001b[0m\u001b[1;34m'ignore'\u001b[0m\u001b[1;33m)\u001b[0m\u001b[1;33m:\u001b[0m\u001b[1;33m\u001b[0m\u001b[0m\n\u001b[1;32m--> 879\u001b[1;33m                 \u001b[0mres\u001b[0m \u001b[1;33m=\u001b[0m \u001b[0mna_op\u001b[0m\u001b[1;33m(\u001b[0m\u001b[0mvalues\u001b[0m\u001b[1;33m,\u001b[0m \u001b[0mother\u001b[0m\u001b[1;33m)\u001b[0m\u001b[1;33m\u001b[0m\u001b[0m\n\u001b[0m\u001b[0;32m    880\u001b[0m             \u001b[1;32mif\u001b[0m \u001b[0mis_scalar\u001b[0m\u001b[1;33m(\u001b[0m\u001b[0mres\u001b[0m\u001b[1;33m)\u001b[0m\u001b[1;33m:\u001b[0m\u001b[1;33m\u001b[0m\u001b[0m\n\u001b[0;32m    881\u001b[0m                 raise TypeError('Could not compare {typ} type with Series'\n",
      "\u001b[1;32m~\\AppData\\Local\\Continuum\\miniconda3\\envs\\revdict\\lib\\site-packages\\pandas\\core\\ops.py\u001b[0m in \u001b[0;36mna_op\u001b[1;34m(x, y)\u001b[0m\n\u001b[0;32m    781\u001b[0m \u001b[1;33m\u001b[0m\u001b[0m\n\u001b[0;32m    782\u001b[0m         \u001b[1;32mif\u001b[0m \u001b[0mis_object_dtype\u001b[0m\u001b[1;33m(\u001b[0m\u001b[0mx\u001b[0m\u001b[1;33m.\u001b[0m\u001b[0mdtype\u001b[0m\u001b[1;33m)\u001b[0m\u001b[1;33m:\u001b[0m\u001b[1;33m\u001b[0m\u001b[0m\n\u001b[1;32m--> 783\u001b[1;33m             \u001b[0mresult\u001b[0m \u001b[1;33m=\u001b[0m \u001b[0m_comp_method_OBJECT_ARRAY\u001b[0m\u001b[1;33m(\u001b[0m\u001b[0mop\u001b[0m\u001b[1;33m,\u001b[0m \u001b[0mx\u001b[0m\u001b[1;33m,\u001b[0m \u001b[0my\u001b[0m\u001b[1;33m)\u001b[0m\u001b[1;33m\u001b[0m\u001b[0m\n\u001b[0m\u001b[0;32m    784\u001b[0m         \u001b[1;32melse\u001b[0m\u001b[1;33m:\u001b[0m\u001b[1;33m\u001b[0m\u001b[0m\n\u001b[0;32m    785\u001b[0m \u001b[1;33m\u001b[0m\u001b[0m\n",
      "\u001b[1;31mKeyboardInterrupt\u001b[0m: "
     ]
    }
   ],
   "source": [
    "temp_words = []\n",
    "def rm_nonexisting(row):\n",
    "    global df_1\n",
    "    index = row.name\n",
    "    if any(df_main[\"word\"] == row[\"word\"]):\n",
    "        temp_words.append(index)\n",
    "        \n",
    "df_1.apply(rm_nonexisting, axis=1)\n",
    "print(len(temp_words))"
   ]
  },
  {
   "cell_type": "markdown",
   "metadata": {},
   "source": [
    "### concat missing-defs.csv and missing-defs-temp.csv"
   ]
  },
  {
   "cell_type": "code",
   "execution_count": null,
   "metadata": {},
   "outputs": [],
   "source": [
    "missing_temp_df = pd.read_csv(\"db/missing-defs-temp.csv\", names=[\"word\",\"definition\"], sep=\":\", index_col=None, keep_default_na=False, na_values=[\"\"])\n",
    "missing_df = pd.read_csv(\"db/missing-defs.csv\", names=[\"word\",\"definition\"], sep=\":\", index_col=None, keep_default_na=False, na_values=[\"\"])\n",
    "\n",
    "result_df = concat_dfs([missing_temp_df, missing_df])\n",
    "print(\"\\nresultant df after concatenating missing-defs.csv and missing-defs-temp.csv..\")\n",
    "print(result_df.info())\n"
   ]
  }
 ],
 "metadata": {
  "kernelspec": {
   "display_name": "Environment (conda_revdict)",
   "language": "python",
   "name": "conda_revdict"
  },
  "language_info": {
   "codemirror_mode": {
    "name": "ipython",
    "version": 3
   },
   "file_extension": ".py",
   "mimetype": "text/x-python",
   "name": "python",
   "nbconvert_exporter": "python",
   "pygments_lexer": "ipython3",
   "version": "3.6.4"
  }
 },
 "nbformat": 4,
 "nbformat_minor": 2
}
