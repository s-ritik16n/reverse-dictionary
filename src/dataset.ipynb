{
 "cells": [
  {
   "cell_type": "markdown",
   "metadata": {},
   "source": [
    "## creating and cleaning dataset - `definitions.csv`\n",
    "***\n",
    "\n",
    "1. [creating dataset - definitions.csv](#creating-definitions.csv)\n",
    "\n",
    "2. [drop words without definitions and definitions without words](#drop-words-without-definitions-and-definitions-without-words)\n",
    "\n",
    "3. [extract words without definition from dataset and save to missing-words.csv](#extract-words-from-definitions-which-has-no-definition-in-dataset-and-save-to-missing-words.csv)"
   ]
  },
  {
   "cell_type": "markdown",
   "metadata": {},
   "source": [
    "### creating definitions.csv"
   ]
  },
  {
   "cell_type": "code",
   "execution_count": 1,
   "metadata": {},
   "outputs": [],
   "source": [
    "import pandas as pd\n",
    "from lib.connect_db import get_engine\n",
    "from lib.print_error import print_error\n",
    "from nltk.corpus import stopwords"
   ]
  },
  {
   "cell_type": "code",
   "execution_count": null,
   "metadata": {},
   "outputs": [],
   "source": [
    "engine, meta = get_engine()\n",
    "\n",
    "df = pd.read_sql(\"definitions\", engine)\n",
    "df.to_csv(\"db/definitions.csv\", sep=\":\", columns = [\"word\", \"definition\"], header = False, index=False, mode = \"w\")"
   ]
  },
  {
   "cell_type": "markdown",
   "metadata": {},
   "source": [
    "### drop words without definitions and definitions without words"
   ]
  },
  {
   "cell_type": "code",
   "execution_count": null,
   "metadata": {},
   "outputs": [],
   "source": [
    "df = pd.read_csv(\"db/definitions.csv\", names=[\"word\",\"definition\"], sep=\":\", index_col=None, keep_default_na=False, na_values=[\"\"])\n",
    "words = pd.DataFrame(columns=[\"word\"], index=None)\n",
    "\n",
    "ww = pd.isnull(df['word'])\n",
    "\n",
    "null_word_indices = []\n",
    "for id,w in enumerate(ww):\n",
    "    if w is True:\n",
    "        null_word_indices.append(id)\n",
    "\n",
    "dd = pd.isnull(df['definition'])\n",
    "null_def_indices = []\n",
    "for id,d in enumerate(dd):\n",
    "    if d is True:\n",
    "        null_def_indices.append(id)\n",
    "\n",
    "for el in null_word_indices:\n",
    "    if el in null_def_indices:\n",
    "        null_def_indices.remove(el)\n",
    "\n",
    "print(\"df info before deletion\")\n",
    "print(df.info())\n",
    "\n",
    "df = df.drop(null_word_indices, inplace=False)\n",
    "df = df.drop(null_def_indices, inplace=False)\n",
    "df = df.reset_index(drop=True)\n",
    "\n",
    "print(\"df info after deletion\")\n",
    "print(\"*\"*10)\n",
    "print(df.info())\n",
    "\n",
    "df.to_csv(\"db/definitions.csv\", sep=\":\", columns=[\"word\",\"definition\"], header=False, index=False, mode=\"w\")\n"
   ]
  },
  {
   "cell_type": "markdown",
   "metadata": {},
   "source": [
    "### extract words from definitions which has no definition in dataset and save to missing-words.csv"
   ]
  },
  {
   "cell_type": "code",
   "execution_count": 2,
   "metadata": {},
   "outputs": [
    {
     "name": "stdout",
     "output_type": "stream",
     "text": [
      "<class 'pandas.core.frame.DataFrame'>\n",
      "RangeIndex: 117631 entries, 0 to 117630\n",
      "Data columns (total 2 columns):\n",
      "word          117631 non-null object\n",
      "definition    117631 non-null object\n",
      "dtypes: object(2)\n",
      "memory usage: 1.8+ MB\n",
      "None\n"
     ]
    },
    {
     "name": "stderr",
     "output_type": "stream",
     "text": [
      "IOPub data rate exceeded.\n",
      "The notebook server will temporarily stop sending output\n",
      "to the client in order to avoid crashing it.\n",
      "To change this limit, set the config variable\n",
      "`--NotebookApp.iopub_data_rate_limit`.\n",
      "\n",
      "Current values:\n",
      "NotebookApp.iopub_data_rate_limit=1000000.0 (bytes/sec)\n",
      "NotebookApp.rate_limit_window=3.0 (secs)\n",
      "\n"
     ]
    }
   ],
   "source": [
    "df = pd.read_csv(\"db/definitions.csv\", names=[\"word\",\"definition\"], sep=\":\", index_col=None, keep_default_na=False, na_values=[\"\"])\n",
    "\n",
    "print(df.info())\n",
    "\n",
    "missing = []\n",
    "\n",
    "def missing_words(definition):\n",
    "    missing.append(str(d) for d in str(definition).split() if not any(df[\"word\"] == str(d)))\n",
    "\n",
    "\n",
    "df[\"definition\"].apply(missing_words)\n",
    "\n",
    "print(missing)"
   ]
  },
  {
   "cell_type": "code",
   "execution_count": null,
   "metadata": {},
   "outputs": [],
   "source": []
  }
 ],
 "metadata": {
  "kernelspec": {
   "display_name": "Environment (conda_revdict)",
   "language": "python",
   "name": "conda_revdict"
  },
  "language_info": {
   "codemirror_mode": {
    "name": "ipython",
    "version": 3
   },
   "file_extension": ".py",
   "mimetype": "text/x-python",
   "name": "python",
   "nbconvert_exporter": "python",
   "pygments_lexer": "ipython3",
   "version": "3.6.4"
  }
 },
 "nbformat": 4,
 "nbformat_minor": 2
}
