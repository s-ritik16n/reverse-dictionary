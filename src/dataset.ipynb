{
 "cells": [
  {
   "cell_type": "markdown",
   "metadata": {},
   "source": [
    "# __creating and cleaning dataset - definitions.csv__\n",
    "1. [creating dataset - definitions.csv](#creating-definitions.csv)\n",
    "2. [drop words without definitions and definitions without words](#drop-words-without-definitions-and-definitions-without-words)\n",
    "3. [remove special characters](#remove-special-characters)\n",
    "    * [retrieve special characters](#retrieve-special-characters)\n",
    "    * [delete special characters](#delete-special-characters)\n",
    "4. [extract words without definition from dataset and save to missing-words.csv](#extract-words-from-definitions-which-have-no-definition-in-dataset-and-save-to-missing-words.csv)"
   ]
  },
  {
   "cell_type": "markdown",
   "metadata": {},
   "source": [
    "### creating definitions.csv\n",
    "---"
   ]
  },
  {
   "cell_type": "code",
   "execution_count": 1,
   "metadata": {},
   "outputs": [],
   "source": [
    "import pandas as pd\n",
    "from lib.connect_db import get_engine\n",
    "from lib.print_error import print_error\n",
    "from nltk.corpus import stopwords"
   ]
  },
  {
   "cell_type": "code",
   "execution_count": null,
   "metadata": {},
   "outputs": [],
   "source": [
    "engine, meta = get_engine()\n",
    "\n",
    "df = pd.read_sql(\"definitions\", engine)\n",
    "df.to_csv(\"db/definitions.csv\", sep=\":\", columns = [\"word\", \"definition\"], header = False, index=False, mode = \"w\")"
   ]
  },
  {
   "cell_type": "markdown",
   "metadata": {},
   "source": [
    "### drop words without definitions and definitions without words\n",
    "---"
   ]
  },
  {
   "cell_type": "code",
   "execution_count": null,
   "metadata": {},
   "outputs": [],
   "source": [
    "df = pd.read_csv(\"db/definitions.csv\", names=[\"word\",\"definition\"], sep=\":\", index_col=None, keep_default_na=False, na_values=[\"\"])\n",
    "words = pd.DataFrame(columns=[\"word\"], index=None)\n",
    "\n",
    "ww = pd.isnull(df['word'])\n",
    "\n",
    "null_word_indices = []\n",
    "for id,w in enumerate(ww):\n",
    "    if w is True:\n",
    "        null_word_indices.append(id)\n",
    "\n",
    "dd = pd.isnull(df['definition'])\n",
    "null_def_indices = []\n",
    "for id,d in enumerate(dd):\n",
    "    if d is True:\n",
    "        null_def_indices.append(id)\n",
    "\n",
    "for el in null_word_indices:\n",
    "    if el in null_def_indices:\n",
    "        null_def_indices.remove(el)\n",
    "\n",
    "print(\"df info before deletion\")\n",
    "print(df.info())\n",
    "\n",
    "df = df.drop(null_word_indices, inplace=False)\n",
    "df = df.drop(null_def_indices, inplace=False)\n",
    "df = df.reset_index(drop=True)\n",
    "\n",
    "print(\"df info after deletion\")\n",
    "print(\"*\"*10)\n",
    "print(df.info())\n",
    "\n",
    "df.to_csv(\"db/definitions.csv\", sep=\":\", columns=[\"word\",\"definition\"], header=False, index=False, mode=\"w\")\n"
   ]
  },
  {
   "cell_type": "markdown",
   "metadata": {},
   "source": [
    "### remove special characters\n",
    "---\n",
    "this section is divided into two parts -\n",
    "* retrieve special characters\n",
    "* delete special characters"
   ]
  },
  {
   "cell_type": "markdown",
   "metadata": {},
   "source": [
    "#### retrieve special characters"
   ]
  },
  {
   "cell_type": "code",
   "execution_count": 42,
   "metadata": {},
   "outputs": [
    {
     "name": "stdout",
     "output_type": "stream",
     "text": [
      "[]\n"
     ]
    }
   ],
   "source": [
    "df = pd.read_csv(\"db//definitions.csv\", names=['word','definition'], sep=\":\", index_col=None, keep_default_na=False, na_values=[\"\"])\n",
    "\n",
    "special_chars = []\n",
    "\n",
    "\n",
    "def get_special_chars(defi):\n",
    "    for d in list(defi):\n",
    "        if (ord(d) < 48 and ord(d) != 32) or (ord(d) > 57 and ord(d)<65) or (ord(d) >90 and ord(d) < 97) or ord(d) > 122:\n",
    "            if d not in special_chars:\n",
    "                special_chars.append(d)\n",
    "    return\n",
    "\n",
    "df[\"definition\"].apply(get_special_chars)\n",
    "\n",
    "# special_chars.remove(\",\")\n",
    "special_chars.remove(\";\")\n",
    "\n",
    "print(special_chars)\n"
   ]
  },
  {
   "cell_type": "markdown",
   "metadata": {},
   "source": [
    "#### delete special characters"
   ]
  },
  {
   "cell_type": "code",
   "execution_count": 41,
   "metadata": {},
   "outputs": [],
   "source": [
    "df = pd.read_csv(\"db/definitions.csv\", names=['word','definition'], sep=\":\", index_col=None, keep_default_na=False, na_values=[\"\"])\n",
    "\n",
    "def remove_special_chars(defi):\n",
    "    for s in special_chars:\n",
    "        defi = \" \".join(defi.split(s))\n",
    "    index = 0\n",
    "    defi = list(defi)\n",
    "    while index < len(defi)-1:\n",
    "        if defi[index] == \" \" and defi[index+1] == \" \":\n",
    "            del defi[index]\n",
    "        else:\n",
    "            index += 1\n",
    "    return \"\".join(defi)\n",
    "\n",
    "\n",
    "df[\"definition\"] = df[\"definition\"].apply(remove_special_chars)\n",
    "df.to_csv(\"db/definitions.csv\", sep=\":\", columns=[\"word\",\"definition\"], header=False, index=False, mode=\"w\")"
   ]
  },
  {
   "cell_type": "markdown",
   "metadata": {},
   "source": [
    "### split definitions based on ';'\n",
    "---"
   ]
  },
  {
   "cell_type": "code",
   "execution_count": null,
   "metadata": {},
   "outputs": [
    {
     "name": "stdout",
     "output_type": "stream",
     "text": [
      "<class 'pandas.core.frame.DataFrame'>\n",
      "RangeIndex: 117631 entries, 0 to 117630\n",
      "Data columns (total 2 columns):\n",
      "word          117631 non-null object\n",
      "definition    117631 non-null object\n",
      "dtypes: object(2)\n",
      "memory usage: 1.8+ MB\n",
      "None\n",
      "********************\n"
     ]
    }
   ],
   "source": [
    "df = pd.read_csv(\"db/definitions.csv\", names=[\"word\",\"definition\"], sep=\":\", index_col=None, keep_default_na=False, na_values=[\"\"])\n",
    "final_df = pd.DataFrame(columns=[\"word\",\"definition\"], index=None)\n",
    "\n",
    "print(df.info())\n",
    "print(\"*\"*20)\n",
    "\n",
    "def split_defs(row):\n",
    "    global final_df\n",
    "    index = row.name\n",
    "    definition = row['definition']\n",
    "    definition_list = list(definition)\n",
    "    if \";\" in definition_list:\n",
    "#         drop definition from original database\n",
    "        new_definitions = definition.split(\";\")\n",
    "        new_definitions = [d.strip() for d in new_definitions]\n",
    "#         index = df.loc[df[\"definition\"] == definition][\"word\"].index\n",
    "#         index = index[0]\n",
    "        for dd in new_definitions:\n",
    "            final_df = final_df.append({\"word\":df.word[index], \"definition\":dd}, ignore_index=True)\n",
    "\n",
    "df.apply(split_defs,axis=1)\n",
    "final_df.to_csv(\"db/split-definitions.csv\", sep=\":\", columns=[\"word\"], header=False, index=False, mode=\"w\")\n",
    "print(\"done\")"
   ]
  },
  {
   "cell_type": "markdown",
   "metadata": {},
   "source": [
    "###  extract words from column definition which have no definition in dataset; save to missing-words.csv\n",
    "---"
   ]
  },
  {
   "cell_type": "code",
   "execution_count": 2,
   "metadata": {
    "slideshow": {
     "slide_type": "-"
    }
   },
   "outputs": [
    {
     "name": "stdout",
     "output_type": "stream",
     "text": [
      "<class 'pandas.core.frame.DataFrame'>\n",
      "RangeIndex: 117631 entries, 0 to 117630\n",
      "Data columns (total 2 columns):\n",
      "word          117631 non-null object\n",
      "definition    117631 non-null object\n",
      "dtypes: object(2)\n",
      "memory usage: 1.8+ MB\n",
      "None\n",
      "********************\n",
      "total words obtained: 60\n"
     ]
    }
   ],
   "source": [
    "df = pd.read_csv(\"db/definitions.csv\", names=[\"word\",\"definition\"], sep=\":\", index_col=None, keep_default_na=False, na_values=[\"\"])\n",
    "\n",
    "print(df.info())\n",
    "print(\"*\"*20)\n",
    "df = df[:10]\n",
    "\n",
    "missing_data = []\n",
    "count = 0\n",
    "\n",
    "def missing_words(definition):\n",
    "    missing_data.append(list(d for d in str(definition).split() if not any(df[\"word\"] == d) and d not in missing_data))\n",
    "    \n",
    "df[\"definition\"].apply(missing_words)\n",
    "\n",
    "final_data= []\n",
    "for missing in missing_data:\n",
    "    for m in missing:\n",
    "        final_data.append(m)\n",
    "\n",
    "print(\"total words obtained:\", len(final_data))\n",
    "\n",
    "defi_df = pd.DataFrame({\"word\":final_data}, columns = [\"word\"], index=None)\n",
    "defi_df = defi_df.drop_duplicates(keep='first')\n",
    "defi_df.to_csv(\"db/missing-defs-temp\", sep=\":\", columns=[\"word\"], header=False, index=False, mode=\"a\")"
   ]
  },
  {
   "cell_type": "code",
   "execution_count": 77,
   "metadata": {},
   "outputs": [
    {
     "name": "stdout",
     "output_type": "stream",
     "text": [
      "0    1\n",
      "2    1\n",
      "Name: one, dtype: int64\n"
     ]
    }
   ],
   "source": [
    "df = pd.DataFrame([[1,2],[3,4],[1,2]], columns= [\"one\",\"two\"])\n",
    "index = df.loc[df[\"one\"] == 1].index\n",
    "print(index)\n",
    "# df = df.drop(df.index[index])\n",
    "# df = df.reset_index()\n",
    "# val = df.loc[df[\"one\"] == 3][\"two\"].item()\n",
    "# print(val)"
   ]
  },
  {
   "cell_type": "code",
   "execution_count": 91,
   "metadata": {},
   "outputs": [
    {
     "name": "stdout",
     "output_type": "stream",
     "text": [
      "   one  two\n",
      "0    1    2\n",
      "1    3    4\n",
      "2    1    2\n",
      "0\n",
      "1\n",
      "2\n"
     ]
    }
   ],
   "source": [
    "df = pd.DataFrame([[1,2],[3,4],[1,2]], columns= [\"one\",\"two\"])\n",
    "def func(row):\n",
    "    print(row.name)\n",
    "print(df)\n",
    "df['d'] = df.apply(func,axis=1)"
   ]
  },
  {
   "cell_type": "code",
   "execution_count": null,
   "metadata": {},
   "outputs": [],
   "source": []
  }
 ],
 "metadata": {
  "kernelspec": {
   "display_name": "Environment (conda_revdict)",
   "language": "python",
   "name": "conda_revdict"
  },
  "language_info": {
   "codemirror_mode": {
    "name": "ipython",
    "version": 3
   },
   "file_extension": ".py",
   "mimetype": "text/x-python",
   "name": "python",
   "nbconvert_exporter": "python",
   "pygments_lexer": "ipython3",
   "version": "3.6.4"
  }
 },
 "nbformat": 4,
 "nbformat_minor": 2
}
