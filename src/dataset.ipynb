{
 "cells": [
  {
   "cell_type": "markdown",
   "metadata": {},
   "source": [
    "## creating and cleaning dataset - `definitions.csv`\n",
    "***\n",
    "\n",
    "1. [creating dataset - definitions.csv](#creating-definitions.csv)\n",
    "2. [drop words without definitions and definitions without words](#drop-words-without-definitions-and-definitions-without-words)\n",
    "3. [extract words without definition from dataset and save to missing-words.csv](#extract-words-from-definitions-which-has-no-definition-in-dataset-and-save-to-missing-words.csv)"
   ]
  },
  {
   "cell_type": "markdown",
   "metadata": {},
   "source": [
    "### creating definitions.csv"
   ]
  },
  {
   "cell_type": "code",
   "execution_count": 1,
   "metadata": {},
   "outputs": [],
   "source": [
    "import pandas as pd\n",
    "from lib.connect_db import get_engine\n",
    "from lib.print_error import print_error\n",
    "from nltk.corpus import stopwords"
   ]
  },
  {
   "cell_type": "code",
   "execution_count": null,
   "metadata": {},
   "outputs": [],
   "source": [
    "engine, meta = get_engine()\n",
    "\n",
    "df = pd.read_sql(\"definitions\", engine)\n",
    "df.to_csv(\"db/definitions.csv\", sep=\":\", columns = [\"word\", \"definition\"], header = False, index=False, mode = \"w\")"
   ]
  },
  {
   "cell_type": "markdown",
   "metadata": {},
   "source": [
    "### drop words without definitions and definitions without words"
   ]
  },
  {
   "cell_type": "code",
   "execution_count": null,
   "metadata": {},
   "outputs": [],
   "source": [
    "df = pd.read_csv(\"db/definitions.csv\", names=[\"word\",\"definition\"], sep=\":\", index_col=None, keep_default_na=False, na_values=[\"\"])\n",
    "words = pd.DataFrame(columns=[\"word\"], index=None)\n",
    "\n",
    "ww = pd.isnull(df['word'])\n",
    "\n",
    "null_word_indices = []\n",
    "for id,w in enumerate(ww):\n",
    "    if w is True:\n",
    "        null_word_indices.append(id)\n",
    "\n",
    "dd = pd.isnull(df['definition'])\n",
    "null_def_indices = []\n",
    "for id,d in enumerate(dd):\n",
    "    if d is True:\n",
    "        null_def_indices.append(id)\n",
    "\n",
    "for el in null_word_indices:\n",
    "    if el in null_def_indices:\n",
    "        null_def_indices.remove(el)\n",
    "\n",
    "print(\"df info before deletion\")\n",
    "print(df.info())\n",
    "\n",
    "df = df.drop(null_word_indices, inplace=False)\n",
    "df = df.drop(null_def_indices, inplace=False)\n",
    "df = df.reset_index(drop=True)\n",
    "\n",
    "print(\"df info after deletion\")\n",
    "print(\"*\"*10)\n",
    "print(df.info())\n",
    "\n",
    "df.to_csv(\"db/definitions.csv\", sep=\":\", columns=[\"word\",\"definition\"], header=False, index=False, mode=\"w\")\n"
   ]
  },
  {
   "cell_type": "markdown",
   "metadata": {},
   "source": [
    "### extract words from definitions which has no definition in dataset and save to missing-words.csv"
   ]
  },
  {
   "cell_type": "code",
   "execution_count": 2,
   "metadata": {
    "slideshow": {
     "slide_type": "-"
    }
   },
   "outputs": [
    {
     "name": "stdout",
     "output_type": "stream",
     "text": [
      "<class 'pandas.core.frame.DataFrame'>\n",
      "RangeIndex: 117631 entries, 0 to 117630\n",
      "Data columns (total 2 columns):\n",
      "word          117631 non-null object\n",
      "definition    117631 non-null object\n",
      "dtypes: object(2)\n",
      "memory usage: 1.8+ MB\n",
      "None\n",
      "[<generator object missing_words.<locals>.<genexpr> at 0x000001EC00D97FC0>, <generator object missing_words.<locals>.<genexpr> at 0x000001EC0C2F30F8>, <generator object missing_words.<locals>.<genexpr> at 0x000001EC0C2F30A0>, <generator object missing_words.<locals>.<genexpr> at 0x000001EC0C2F31A8>, <generator object missing_words.<locals>.<genexpr> at 0x000001EC0C2F3200>, <generator object missing_words.<locals>.<genexpr> at 0x000001EC0C2F3258>, <generator object missing_words.<locals>.<genexpr> at 0x000001EC0C2F32B0>, <generator object missing_words.<locals>.<genexpr> at 0x000001EC0C2F3308>, <generator object missing_words.<locals>.<genexpr> at 0x000001EC0C2F3360>, <generator object missing_words.<locals>.<genexpr> at 0x000001EC0C2F33B8>, <generator object missing_words.<locals>.<genexpr> at 0x000001EC0C2F3410>, <generator object missing_words.<locals>.<genexpr> at 0x000001EC0C2F3468>, <generator object missing_words.<locals>.<genexpr> at 0x000001EC0C2F34C0>, <generator object missing_words.<locals>.<genexpr> at 0x000001EC0C2F3518>, <generator object missing_words.<locals>.<genexpr> at 0x000001EC0C2F3570>, <generator object missing_words.<locals>.<genexpr> at 0x000001EC0C2F35C8>, <generator object missing_words.<locals>.<genexpr> at 0x000001EC0C2F3620>, <generator object missing_words.<locals>.<genexpr> at 0x000001EC0C2F3678>, <generator object missing_words.<locals>.<genexpr> at 0x000001EC0C2F36D0>, <generator object missing_words.<locals>.<genexpr> at 0x000001EC0C2F3728>, <generator object missing_words.<locals>.<genexpr> at 0x000001EC0C2F3780>, <generator object missing_words.<locals>.<genexpr> at 0x000001EC0C2F37D8>, <generator object missing_words.<locals>.<genexpr> at 0x000001EC0C2F3830>, <generator object missing_words.<locals>.<genexpr> at 0x000001EC0C2F3888>, <generator object missing_words.<locals>.<genexpr> at 0x000001EC0C2F38E0>, <generator object missing_words.<locals>.<genexpr> at 0x000001EC0C2F3938>, <generator object missing_words.<locals>.<genexpr> at 0x000001EC0C2F3990>, <generator object missing_words.<locals>.<genexpr> at 0x000001EC0C2F39E8>, <generator object missing_words.<locals>.<genexpr> at 0x000001EC0C2F3A40>, <generator object missing_words.<locals>.<genexpr> at 0x000001EC0C2F3A98>, <generator object missing_words.<locals>.<genexpr> at 0x000001EC0C2F3AF0>, <generator object missing_words.<locals>.<genexpr> at 0x000001EC0C2F3B48>, <generator object missing_words.<locals>.<genexpr> at 0x000001EC0C2F3BA0>, <generator object missing_words.<locals>.<genexpr> at 0x000001EC0C2F3BF8>, <generator object missing_words.<locals>.<genexpr> at 0x000001EC0C2F3C50>, <generator object missing_words.<locals>.<genexpr> at 0x000001EC0C2F3CA8>, <generator object missing_words.<locals>.<genexpr> at 0x000001EC0C2F3D00>, <generator object missing_words.<locals>.<genexpr> at 0x000001EC0C2F3D58>, <generator object missing_words.<locals>.<genexpr> at 0x000001EC0C2F3DB0>, <generator object missing_words.<locals>.<genexpr> at 0x000001EC0C2F3E08>, <generator object missing_words.<locals>.<genexpr> at 0x000001EC0C2F3E60>, <generator object missing_words.<locals>.<genexpr> at 0x000001EC0C2F3EB8>, <generator object missing_words.<locals>.<genexpr> at 0x000001EC0C2F3F10>, <generator object missing_words.<locals>.<genexpr> at 0x000001EC0C2F3F68>, <generator object missing_words.<locals>.<genexpr> at 0x000001EC0C2F3FC0>, <generator object missing_words.<locals>.<genexpr> at 0x000001EC09D25048>, <generator object missing_words.<locals>.<genexpr> at 0x000001EC09D250A0>, <generator object missing_words.<locals>.<genexpr> at 0x000001EC09D250F8>, <generator object missing_words.<locals>.<genexpr> at 0x000001EC09D25150>, <generator object missing_words.<locals>.<genexpr> at 0x000001EC09D251A8>, <generator object missing_words.<locals>.<genexpr> at 0x000001EC09D25200>, <generator object missing_words.<locals>.<genexpr> at 0x000001EC09D25258>, <generator object missing_words.<locals>.<genexpr> at 0x000001EC09D252B0>, <generator object missing_words.<locals>.<genexpr> at 0x000001EC09D25308>, <generator object missing_words.<locals>.<genexpr> at 0x000001EC09D25360>, <generator object missing_words.<locals>.<genexpr> at 0x000001EC09D253B8>, <generator object missing_words.<locals>.<genexpr> at 0x000001EC09D25410>, <generator object missing_words.<locals>.<genexpr> at 0x000001EC09D25468>, <generator object missing_words.<locals>.<genexpr> at 0x000001EC09D254C0>, <generator object missing_words.<locals>.<genexpr> at 0x000001EC09D25518>, <generator object missing_words.<locals>.<genexpr> at 0x000001EC09D25570>, <generator object missing_words.<locals>.<genexpr> at 0x000001EC09D255C8>, <generator object missing_words.<locals>.<genexpr> at 0x000001EC09D25620>, <generator object missing_words.<locals>.<genexpr> at 0x000001EC09D25678>, <generator object missing_words.<locals>.<genexpr> at 0x000001EC09D256D0>, <generator object missing_words.<locals>.<genexpr> at 0x000001EC09D25728>, <generator object missing_words.<locals>.<genexpr> at 0x000001EC09D25780>, <generator object missing_words.<locals>.<genexpr> at 0x000001EC09D257D8>, <generator object missing_words.<locals>.<genexpr> at 0x000001EC09D25830>, <generator object missing_words.<locals>.<genexpr> at 0x000001EC09D25888>, <generator object missing_words.<locals>.<genexpr> at 0x000001EC09D258E0>, <generator object missing_words.<locals>.<genexpr> at 0x000001EC09D25938>, <generator object missing_words.<locals>.<genexpr> at 0x000001EC09D25990>, <generator object missing_words.<locals>.<genexpr> at 0x000001EC09D259E8>, <generator object missing_words.<locals>.<genexpr> at 0x000001EC09D25A40>, <generator object missing_words.<locals>.<genexpr> at 0x000001EC09D25A98>, <generator object missing_words.<locals>.<genexpr> at 0x000001EC09D25AF0>, <generator object missing_words.<locals>.<genexpr> at 0x000001EC09D25B48>, <generator object missing_words.<locals>.<genexpr> at 0x000001EC09D25BA0>, <generator object missing_words.<locals>.<genexpr> at 0x000001EC09D25BF8>, <generator object missing_words.<locals>.<genexpr> at 0x000001EC09D25C50>, <generator object missing_words.<locals>.<genexpr> at 0x000001EC09D25CA8>, <generator object missing_words.<locals>.<genexpr> at 0x000001EC09D25D00>, <generator object missing_words.<locals>.<genexpr> at 0x000001EC09D25D58>, <generator object missing_words.<locals>.<genexpr> at 0x000001EC09D25DB0>, <generator object missing_words.<locals>.<genexpr> at 0x000001EC09D25E08>, <generator object missing_words.<locals>.<genexpr> at 0x000001EC09D25E60>, <generator object missing_words.<locals>.<genexpr> at 0x000001EC09D25EB8>, <generator object missing_words.<locals>.<genexpr> at 0x000001EC09D25F10>, <generator object missing_words.<locals>.<genexpr> at 0x000001EC09D25F68>, <generator object missing_words.<locals>.<genexpr> at 0x000001EC09D25FC0>, <generator object missing_words.<locals>.<genexpr> at 0x000001EC09D30048>, <generator object missing_words.<locals>.<genexpr> at 0x000001EC09D300A0>, <generator object missing_words.<locals>.<genexpr> at 0x000001EC09D300F8>, <generator object missing_words.<locals>.<genexpr> at 0x000001EC09D30150>, <generator object missing_words.<locals>.<genexpr> at 0x000001EC09D301A8>, <generator object missing_words.<locals>.<genexpr> at 0x000001EC09D30200>, <generator object missing_words.<locals>.<genexpr> at 0x000001EC09D30258>, <generator object missing_words.<locals>.<genexpr> at 0x000001EC09D302B0>, <generator object missing_words.<locals>.<genexpr> at 0x000001EC09D30308>, <generator object missing_words.<locals>.<genexpr> at 0x000001EC09D30360>, <generator object missing_words.<locals>.<genexpr> at 0x000001EC09D303B8>, <generator object missing_words.<locals>.<genexpr> at 0x000001EC09D30410>, <generator object missing_words.<locals>.<genexpr> at 0x000001EC0C2F3150>, <generator object missing_words.<locals>.<genexpr> at 0x000001EC09D30468>, <generator object missing_words.<locals>.<genexpr> at 0x000001EC09D304C0>, <generator object missing_words.<locals>.<genexpr> at 0x000001EC09D30518>, <generator object missing_words.<locals>.<genexpr> at 0x000001EC09D30570>, <generator object missing_words.<locals>.<genexpr> at 0x000001EC09D305C8>, <generator object missing_words.<locals>.<genexpr> at 0x000001EC09D30620>, <generator object missing_words.<locals>.<genexpr> at 0x000001EC09D30678>, <generator object missing_words.<locals>.<genexpr> at 0x000001EC09D306D0>, <generator object missing_words.<locals>.<genexpr> at 0x000001EC09D30728>, <generator object missing_words.<locals>.<genexpr> at 0x000001EC09D30780>, <generator object missing_words.<locals>.<genexpr> at 0x000001EC09D307D8>, <generator object missing_words.<locals>.<genexpr> at 0x000001EC09D30830>, <generator object missing_words.<locals>.<genexpr> at 0x000001EC09D30888>, <generator object missing_words.<locals>.<genexpr> at 0x000001EC09D308E0>, <generator object missing_words.<locals>.<genexpr> at 0x000001EC09D30938>, <generator object missing_words.<locals>.<genexpr> at 0x000001EC09D30990>, <generator object missing_words.<locals>.<genexpr> at 0x000001EC09D309E8>, <generator object missing_words.<locals>.<genexpr> at 0x000001EC09D30A40>, <generator object missing_words.<locals>.<genexpr> at 0x000001EC09D30A98>, <generator object missing_words.<locals>.<genexpr> at 0x000001EC09D30AF0>, <generator object missing_words.<locals>.<genexpr> at 0x000001EC09D30B48>, <generator object missing_words.<locals>.<genexpr> at 0x000001EC09D30BA0>, <generator object missing_words.<locals>.<genexpr> at 0x000001EC09D30BF8>, <generator object missing_words.<locals>.<genexpr> at 0x000001EC09D30C50>, <generator object missing_words.<locals>.<genexpr> at 0x000001EC09D30CA8>, <generator object missing_words.<locals>.<genexpr> at 0x000001EC09D30D00>, <generator object missing_words.<locals>.<genexpr> at 0x000001EC09D30D58>, <generator object missing_words.<locals>.<genexpr> at 0x000001EC09D30DB0>, <generator object missing_words.<locals>.<genexpr> at 0x000001EC09D30E08>, <generator object missing_words.<locals>.<genexpr> at 0x000001EC09D30E60>, <generator object missing_words.<locals>.<genexpr> at 0x000001EC09D30EB8>, <generator object missing_words.<locals>.<genexpr> at 0x000001EC09D30F10>, <generator object missing_words.<locals>.<genexpr> at 0x000001EC09D30F68>, <generator object missing_words.<locals>.<genexpr> at 0x000001EC09D30FC0>, <generator object missing_words.<locals>.<genexpr> at 0x000001EC09D3C048>, <generator object missing_words.<locals>.<genexpr> at 0x000001EC09D3C0A0>, <generator object missing_words.<locals>.<genexpr> at 0x000001EC09D3C0F8>, <generator object missing_words.<locals>.<genexpr> at 0x000001EC09D3C150>, <generator object missing_words.<locals>.<genexpr> at 0x000001EC09D3C1A8>, <generator object missing_words.<locals>.<genexpr> at 0x000001EC09D3C200>, <generator object missing_words.<locals>.<genexpr> at 0x000001EC09D3C258>, <generator object missing_words.<locals>.<genexpr> at 0x000001EC09D3C2B0>, <generator object missing_words.<locals>.<genexpr> at 0x000001EC09D3C308>, <generator object missing_words.<locals>.<genexpr> at 0x000001EC09D3C360>, <generator object missing_words.<locals>.<genexpr> at 0x000001EC09D3C3B8>, <generator object missing_words.<locals>.<genexpr> at 0x000001EC09D3C410>, <generator object missing_words.<locals>.<genexpr> at 0x000001EC09D3C468>, <generator object missing_words.<locals>.<genexpr> at 0x000001EC09D3C4C0>, <generator object missing_words.<locals>.<genexpr> at 0x000001EC09D3C518>, <generator object missing_words.<locals>.<genexpr> at 0x000001EC09D3C570>, <generator object missing_words.<locals>.<genexpr> at 0x000001EC09D3C5C8>, <generator object missing_words.<locals>.<genexpr> at 0x000001EC09D3C620>, <generator object missing_words.<locals>.<genexpr> at 0x000001EC09D3C678>, <generator object missing_words.<locals>.<genexpr> at 0x000001EC09D3C6D0>, <generator object missing_words.<locals>.<genexpr> at 0x000001EC09D3C728>, <generator object missing_words.<locals>.<genexpr> at 0x000001EC09D3C780>, <generator object missing_words.<locals>.<genexpr> at 0x000001EC09D3C7D8>, <generator object missing_words.<locals>.<genexpr> at 0x000001EC09D3C830>, <generator object missing_words.<locals>.<genexpr> at 0x000001EC09D3C888>, <generator object missing_words.<locals>.<genexpr> at 0x000001EC09D3C8E0>, <generator object missing_words.<locals>.<genexpr> at 0x000001EC09D3C938>, <generator object missing_words.<locals>.<genexpr> at 0x000001EC09D3C990>, <generator object missing_words.<locals>.<genexpr> at 0x000001EC09D3C9E8>, <generator object missing_words.<locals>.<genexpr> at 0x000001EC09D3CA40>, <generator object missing_words.<locals>.<genexpr> at 0x000001EC09D3CA98>, <generator object missing_words.<locals>.<genexpr> at 0x000001EC09D3CAF0>, <generator object missing_words.<locals>.<genexpr> at 0x000001EC09D3CB48>, <generator object missing_words.<locals>.<genexpr> at 0x000001EC09D3CBA0>, <generator object missing_words.<locals>.<genexpr> at 0x000001EC09D3CBF8>, <generator object missing_words.<locals>.<genexpr> at 0x000001EC09D3CC50>, <generator object missing_words.<locals>.<genexpr> at 0x000001EC09D3CCA8>, <generator object missing_words.<locals>.<genexpr> at 0x000001EC09D3CD00>, <generator object missing_words.<locals>.<genexpr> at 0x000001EC09D3CD58>, <generator object missing_words.<locals>.<genexpr> at 0x000001EC09D3CDB0>, <generator object missing_words.<locals>.<genexpr> at 0x000001EC09D3CE08>, <generator object missing_words.<locals>.<genexpr> at 0x000001EC09D3CE60>, <generator object missing_words.<locals>.<genexpr> at 0x000001EC09D3CEB8>, <generator object missing_words.<locals>.<genexpr> at 0x000001EC09D3CF10>, <generator object missing_words.<locals>.<genexpr> at 0x000001EC09D3CF68>, <generator object missing_words.<locals>.<genexpr> at 0x000001EC09D3CFC0>, <generator object missing_words.<locals>.<genexpr> at 0x000001EC09D48048>, <generator object missing_words.<locals>.<genexpr> at 0x000001EC09D480A0>, <generator object missing_words.<locals>.<genexpr> at 0x000001EC09D480F8>, <generator object missing_words.<locals>.<genexpr> at 0x000001EC09D48150>, <generator object missing_words.<locals>.<genexpr> at 0x000001EC09D481A8>, <generator object missing_words.<locals>.<genexpr> at 0x000001EC09D48200>, <generator object missing_words.<locals>.<genexpr> at 0x000001EC09D48258>, <generator object missing_words.<locals>.<genexpr> at 0x000001EC09D482B0>, <generator object missing_words.<locals>.<genexpr> at 0x000001EC09D48308>, <generator object missing_words.<locals>.<genexpr> at 0x000001EC09D48360>, <generator object missing_words.<locals>.<genexpr> at 0x000001EC09D483B8>, <generator object missing_words.<locals>.<genexpr> at 0x000001EC09D48410>, <generator object missing_words.<locals>.<genexpr> at 0x000001EC09D48468>, <generator object missing_words.<locals>.<genexpr> at 0x000001EC09D484C0>, <generator object missing_words.<locals>.<genexpr> at 0x000001EC09D48518>, <generator object missing_words.<locals>.<genexpr> at 0x000001EC09D48570>]\n"
     ]
    }
   ],
   "source": [
    "df = pd.read_csv(\"db/definitions.csv\", names=[\"word\",\"definition\"], sep=\":\", index_col=None, keep_default_na=False, na_values=[\"\"])\n",
    "\n",
    "print(df.info())\n",
    "\n",
    "missing = []\n",
    "\n",
    "def missing_words(definition):\n",
    "    missing.append(str(d) for d in str(definition).split() if not any(df[\"word\"] == str(d)))\n",
    "\n",
    "\n",
    "df[\"definition\"].apply(missing_words)\n",
    "\n",
    "print(missing[:200])"
   ]
  },
  {
   "cell_type": "code",
   "execution_count": null,
   "metadata": {},
   "outputs": [],
   "source": []
  }
 ],
 "metadata": {
  "kernelspec": {
   "display_name": "Environment (conda_revdict)",
   "language": "python",
   "name": "conda_revdict"
  },
  "language_info": {
   "codemirror_mode": {
    "name": "ipython",
    "version": 3
   },
   "file_extension": ".py",
   "mimetype": "text/x-python",
   "name": "python",
   "nbconvert_exporter": "python",
   "pygments_lexer": "ipython3",
   "version": "3.6.4"
  }
 },
 "nbformat": 4,
 "nbformat_minor": 2
}
