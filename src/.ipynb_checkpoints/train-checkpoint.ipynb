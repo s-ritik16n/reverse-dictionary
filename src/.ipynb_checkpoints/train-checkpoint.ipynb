{
 "cells": [
  {
   "cell_type": "code",
   "execution_count": 1,
   "metadata": {},
   "outputs": [],
   "source": [
    "import tensorflow as tf\n",
    "import pandas as pd"
   ]
  },
  {
   "cell_type": "markdown",
   "metadata": {},
   "source": [
    "#### calc vector position of 1 for all words in word column"
   ]
  },
  {
   "cell_type": "code",
   "execution_count": 5,
   "metadata": {},
   "outputs": [],
   "source": [
    "df = pd.read_csv(\"db/sample/clean/final.csv\", names=[\"word\",\"definition\"], sep=\":\", index_col=None, keep_default_na=False, na_values=[\"\"])\n",
    "\n",
    "df_nums = pd.DataFrame(columns=[\"word\",\"number\"], index=None)\n",
    "count = 0;\n",
    "\n",
    "def word_vector_nums(row):\n",
    "    global count, df_nums\n",
    "    df_nums = df_nums.append({\"word\":row.word,\"number\": count}, ignore_index=True)\n",
    "    count += 1\n",
    "    return \"\"\n",
    "\n",
    "df.apply(word_vector_nums, axis=1)\n",
    "df_nums.to_csv(\"db/sample/clean/word_col_vectors.csv\", sep=\":\", columns=[\"word\",\"number\"], header=False, index=False, mode=\"w\")"
   ]
  },
  {
   "cell_type": "markdown",
   "metadata": {},
   "source": [
    "### final cleaning of final.csv"
   ]
  },
  {
   "cell_type": "code",
   "execution_count": 25,
   "metadata": {},
   "outputs": [
    {
     "name": "stdout",
     "output_type": "stream",
     "text": [
      "<class 'pandas.core.frame.DataFrame'>\n",
      "RangeIndex: 9656 entries, 0 to 9655\n",
      "Data columns (total 2 columns):\n",
      "word          9656 non-null object\n",
      "definition    6576 non-null object\n",
      "dtypes: object(2)\n",
      "memory usage: 151.0+ KB\n",
      "None\n"
     ]
    }
   ],
   "source": [
    "df = pd.read_csv(\"db/sample/clean/final.csv\", names=[\"word\",\"definition\"], sep=\":\", index_col=None, keep_default_na=False, na_values=[\"\"])\n",
    "print(df.info())"
   ]
  },
  {
   "cell_type": "markdown",
   "metadata": {},
   "source": [
    "### convert definitions to vector positions"
   ]
  },
  {
   "cell_type": "code",
   "execution_count": 24,
   "metadata": {},
   "outputs": [
    {
     "name": "stdout",
     "output_type": "stream",
     "text": [
      "******************************\n",
      "df_2\n",
      "<class 'pandas.core.frame.DataFrame'>\n",
      "RangeIndex: 6575 entries, 0 to 6574\n",
      "Data columns (total 2 columns):\n",
      "word          6575 non-null object\n",
      "definition    6575 non-null object\n",
      "dtypes: object(2)\n",
      "memory usage: 102.8+ KB\n",
      "None\n",
      "******************************\n",
      "df_3\n",
      "<class 'pandas.core.frame.DataFrame'>\n",
      "RangeIndex: 3080 entries, 6576 to 9655\n",
      "Data columns (total 2 columns):\n",
      "word      3080 non-null object\n",
      "number    3080 non-null int64\n",
      "dtypes: int64(1), object(1)\n",
      "memory usage: 48.2+ KB\n",
      "None\n",
      "******************************\n",
      "df_defs\n",
      "<class 'pandas.core.frame.DataFrame'>\n",
      "RangeIndex: 9655 entries, 0 to 9654\n",
      "Data columns (total 4 columns):\n",
      "word           9655 non-null object\n",
      "word_vector    9655 non-null object\n",
      "definition     9655 non-null object\n",
      "def_vectors    9655 non-null object\n",
      "dtypes: object(4)\n",
      "memory usage: 301.8+ KB\n",
      "None\n"
     ]
    }
   ],
   "source": [
    "df = pd.read_csv(\"db/sample/clean/final.csv\", names=[\"word\",\"definition\"], sep=\":\", index_col=None, keep_default_na=False, na_values=[\"\"])\n",
    "df_words = pd.read_csv(\"db/sample/clean/word_col_vectors.csv\", names=[\"word\",\"number\"], sep=\":\", index_col=None, keep_default_na=False, na_values=[\"\"])\n",
    "df_defs = pd.DataFrame(columns=[\"word\", \"word_vector\", \"definition\" ,\"def_vectors\"], index=None)\n",
    "\n",
    "def def_vector_nums(row):\n",
    "    global df_defs\n",
    "    definition = str(row.definition)\n",
    "    if (definition is not None and row.word is not None) or (definitions != \"\" and row.word != \"\"):\n",
    "        word_vector = df_words.loc[df_words[\"word\"] == row.word][\"number\"].values[0]\n",
    "        vector =  \" \".join(str(df_words.loc[df_words[\"word\"] == word][\"number\"].values[0]) for word in definition.split())\n",
    "        df_defs = df_defs.append({\"word\":row.word, \"def_vectors\":vector, \"word_vector\":word_vector, \"definition\": definition}, ignore_index=True)\n",
    "    return\n",
    "\n",
    "def fill_null(row):\n",
    "    global df_defs\n",
    "    df_defs = df_defs.append({\"word\":row.word, \"word_vector\":row.number, \"definition\":\"-\", \"def_vectors\": \"-\"}, ignore_index=True)\n",
    "    return\n",
    "\n",
    "\n",
    "df_2 = df[:6575]\n",
    "df_3 = df_words[6576:]\n",
    "\n",
    "print(\"*\"*30)\n",
    "print(\"df_2\")\n",
    "print(df_2.info())\n",
    "print(\"*\"*30)\n",
    "print(\"df_3\")\n",
    "print(df_3.info())    \n",
    "\n",
    "df_2.apply(def_vector_nums, axis=1)\n",
    "df_3.apply(fill_null, axis=1)\n",
    "\n",
    "print(\"*\"*30)\n",
    "print(\"df_defs\")\n",
    "print(df_defs.info())\n",
    "\n",
    "df_defs.to_csv(\"db/sample/clean/def_col_vectors.csv\", sep=\":\", columns=[\"word\",\"word_vector\", \"definition\" ,\"def_vectors\"], header=False, index=False, mode=\"w\")"
   ]
  },
  {
   "cell_type": "code",
   "execution_count": null,
   "metadata": {},
   "outputs": [],
   "source": [
    "df_2 = pd.DataFrame(columns=[\"word\"],index=None)\n",
    "df_2 = df[6576:]"
   ]
  }
 ],
 "metadata": {
  "kernelspec": {
   "display_name": "Environment (conda_revdict)",
   "language": "python",
   "name": "conda_revdict"
  },
  "language_info": {
   "codemirror_mode": {
    "name": "ipython",
    "version": 3
   },
   "file_extension": ".py",
   "mimetype": "text/x-python",
   "name": "python",
   "nbconvert_exporter": "python",
   "pygments_lexer": "ipython3",
   "version": "3.6.4"
  }
 },
 "nbformat": 4,
 "nbformat_minor": 2
}
