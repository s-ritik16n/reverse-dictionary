{
 "cells": [
  {
   "cell_type": "code",
   "execution_count": 1,
   "metadata": {},
   "outputs": [],
   "source": [
    "import tensorflow as tf\n",
    "import pandas as pd"
   ]
  },
  {
   "cell_type": "markdown",
   "metadata": {},
   "source": [
    "#### calc vector position of 1 for all words in word column"
   ]
  },
  {
   "cell_type": "code",
   "execution_count": 5,
   "metadata": {},
   "outputs": [],
   "source": [
    "df = pd.read_csv(\"db/sample/clean/final.csv\", names=[\"word\",\"definition\"], sep=\":\", index_col=None, keep_default_na=False, na_values=[\"\"])\n",
    "\n",
    "df_nums = pd.DataFrame(columns=[\"word\",\"number\"], index=None)\n",
    "count = 0;\n",
    "\n",
    "def word_vector_nums(row):\n",
    "    global count, df_nums\n",
    "    df_nums = df_nums.append({\"word\":row.word,\"number\": count}, ignore_index=True)\n",
    "    count += 1\n",
    "    return \"\"\n",
    "\n",
    "df.apply(word_vector_nums, axis=1)\n",
    "df_nums.to_csv(\"db/sample/clean/word_col_vectors.csv\", sep=\":\", columns=[\"word\",\"number\"], header=False, index=False, mode=\"w\")"
   ]
  },
  {
   "cell_type": "markdown",
   "metadata": {},
   "source": [
    "### convert definitions to vector positions"
   ]
  },
  {
   "cell_type": "code",
   "execution_count": 6,
   "metadata": {},
   "outputs": [
    {
     "name": "stderr",
     "output_type": "stream",
     "text": [
      "C:\\Users\\ritiksax\\AppData\\Local\\Continuum\\miniconda3\\envs\\revdict\\lib\\site-packages\\pandas\\io\\formats\\format.py:1586: FutureWarning: \n",
      "Passing list-likes to .loc or [] with any missing label will raise\n",
      "KeyError in the future, you can use .reindex() as an alternative.\n",
      "\n",
      "See the documentation here:\n",
      "http://pandas.pydata.org/pandas-docs/stable/indexing.html#deprecate-loc-reindex-listlike\n",
      "  self.obj = self.obj.loc[:, cols]\n",
      "C:\\Users\\ritiksax\\AppData\\Local\\Continuum\\miniconda3\\envs\\revdict\\lib\\site-packages\\pandas\\core\\indexing.py:1367: FutureWarning: \n",
      "Passing list-likes to .loc or [] with any missing label will raise\n",
      "KeyError in the future, you can use .reindex() as an alternative.\n",
      "\n",
      "See the documentation here:\n",
      "http://pandas.pydata.org/pandas-docs/stable/indexing.html#deprecate-loc-reindex-listlike\n",
      "  return self._getitem_tuple(key)\n"
     ]
    }
   ],
   "source": [
    "df = pd.read_csv(\"db/sample/clean/final.csv\", names=[\"word\",\"definition\"], sep=\":\", index_col=None, keep_default_na=False, na_values=[\"\"])\n",
    "df_words = pd.read_csv(\"db/sample/clean/word_col_vectors.csv\", names=[\"word\",\"number\"], sep=\":\", index_col=None, keep_default_na=False, na_values=[\"\"])\n",
    "df_defs = pd.DataFrame(columns=[\"word\", \"def_vectors\"], index=None)\n",
    "\n",
    "df_2 = df[:6575]\n",
    "\n",
    "def def_vector_nums(row):\n",
    "    global df_defs\n",
    "    definition = str(row.definition)\n",
    "    if definition is not None:\n",
    "        vector =  \" \".join(str(df_words.loc[df_words[\"word\"] == word][\"number\"].values[0]) for word in definition.split())\n",
    "        df_defs = df_defs.append({\"word\":row.word, \"def_vectors\":vector}, ignore_index=True)\n",
    "    return\n",
    "\n",
    "df_2.apply(def_vector_nums, axis=1)\n",
    "df_defs.to_csv(\"db/sample/clean/def_col_vectors.csv\", sep=\":\", columns=[\"word\",\"number\"], header=False, index=False, mode=\"w\")"
   ]
  },
  {
   "cell_type": "code",
   "execution_count": null,
   "metadata": {},
   "outputs": [],
   "source": [
    "df_2 = pd.DataFrame(columns=[\"word\"],index=None)\n",
    "df_2 = df[6576:]"
   ]
  }
 ],
 "metadata": {
  "kernelspec": {
   "display_name": "Environment (conda_revdict)",
   "language": "python",
   "name": "conda_revdict"
  },
  "language_info": {
   "codemirror_mode": {
    "name": "ipython",
    "version": 3
   },
   "file_extension": ".py",
   "mimetype": "text/x-python",
   "name": "python",
   "nbconvert_exporter": "python",
   "pygments_lexer": "ipython3",
   "version": "3.6.4"
  }
 },
 "nbformat": 4,
 "nbformat_minor": 2
}
