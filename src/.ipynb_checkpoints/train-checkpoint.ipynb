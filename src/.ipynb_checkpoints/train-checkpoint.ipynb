{
 "cells": [
  {
   "cell_type": "code",
   "execution_count": 33,
   "metadata": {},
   "outputs": [],
   "source": [
    "import pandas as pd\n",
    "import numpy as np\n",
    "from scipy.special import expit"
   ]
  },
  {
   "cell_type": "code",
   "execution_count": 25,
   "metadata": {},
   "outputs": [],
   "source": [
    "defs = pd.read_csv(\"db/sample/clean/def_col_vectors.csv\", names=[\"word\", \"word_vector\",\"definition\", \"def_vectors\"], sep=\":\", index_col=None, keep_default_na=False, na_values=[\"\"])\n",
    "word_list = pd.read_csv(\"db/sample/clean/word_col_vectors.csv\", names=[\"word\", \"word_vector\"], sep=\":\", index_col=None, keep_default_na=False, na_values=[\"\"])\n",
    "\n",
    "\n",
    "X = []\n",
    "y = []\n",
    "\n",
    "defs = defs.values.tolist()\n",
    "word_list = word_list.values.tolist()\n",
    "defs_main = defs[:6575]\n",
    "\n",
    "defs_main = [[str(d[0]).strip(), d[1], str(d[2]).strip(), str(d[3]).strip()] for d in defs_main]\n",
    "size = len(word_list)\n",
    "\n",
    "epoch=9000\n",
    "lr=0.1\n",
    "\n",
    "for n in defs_main:\n",
    "    main_word = str(n[0])\n",
    "    definition = str(n[2]).split()\n",
    "    vector = str(n[3]).split()\n",
    "    out = np.zeros((size,), dtype=int)\n",
    "    inp = np.zeros((size,), dtype=int)\n",
    "    for word in word_list:\n",
    "        if word[0] is main_word:\n",
    "            out[word[1]] = 1\n",
    "        if word[0] in definition:\n",
    "            inp[word[1]] = 1\n",
    "    X.append(inp)\n",
    "    y.append(out)\n",
    "\n",
    "    \n",
    "X = np.asarray(X)\n",
    "y = np.asarray(y)\n"
   ]
  },
  {
   "cell_type": "code",
   "execution_count": 34,
   "metadata": {},
   "outputs": [
    {
     "ename": "KeyboardInterrupt",
     "evalue": "",
     "output_type": "error",
     "traceback": [
      "\u001b[1;31m---------------------------------------------------------------------------\u001b[0m",
      "\u001b[1;31mKeyboardInterrupt\u001b[0m                         Traceback (most recent call last)",
      "\u001b[1;32m<ipython-input-34-5dac81c22abc>\u001b[0m in \u001b[0;36m<module>\u001b[1;34m()\u001b[0m\n\u001b[0;32m     21\u001b[0m     \u001b[0moutput_layer_input1\u001b[0m \u001b[1;33m=\u001b[0m \u001b[0mnp\u001b[0m\u001b[1;33m.\u001b[0m\u001b[0mdot\u001b[0m\u001b[1;33m(\u001b[0m\u001b[0mhidden_layer_activations\u001b[0m\u001b[1;33m,\u001b[0m \u001b[0mwout\u001b[0m\u001b[1;33m)\u001b[0m\u001b[1;33m\u001b[0m\u001b[0m\n\u001b[0;32m     22\u001b[0m     \u001b[0moutput_layer_input\u001b[0m \u001b[1;33m=\u001b[0m \u001b[0moutput_layer_input1\u001b[0m \u001b[1;33m+\u001b[0m \u001b[0mbout\u001b[0m\u001b[1;33m\u001b[0m\u001b[0m\n\u001b[1;32m---> 23\u001b[1;33m     \u001b[0moutput\u001b[0m \u001b[1;33m=\u001b[0m \u001b[0msigmoid\u001b[0m\u001b[1;33m(\u001b[0m\u001b[0moutput_layer_input\u001b[0m\u001b[1;33m)\u001b[0m\u001b[1;33m\u001b[0m\u001b[0m\n\u001b[0m\u001b[0;32m     24\u001b[0m \u001b[1;33m\u001b[0m\u001b[0m\n\u001b[0;32m     25\u001b[0m     \u001b[1;31m# Backpropagation\u001b[0m\u001b[1;33m\u001b[0m\u001b[1;33m\u001b[0m\u001b[0m\n",
      "\u001b[1;32m<ipython-input-34-5dac81c22abc>\u001b[0m in \u001b[0;36msigmoid\u001b[1;34m(x)\u001b[0m\n\u001b[0;32m      1\u001b[0m \u001b[1;32mdef\u001b[0m \u001b[0msigmoid\u001b[0m\u001b[1;33m(\u001b[0m\u001b[0mx\u001b[0m\u001b[1;33m)\u001b[0m\u001b[1;33m:\u001b[0m\u001b[1;33m\u001b[0m\u001b[0m\n\u001b[1;32m----> 2\u001b[1;33m     \u001b[1;32mreturn\u001b[0m \u001b[1;36m1\u001b[0m\u001b[1;33m/\u001b[0m\u001b[1;33m(\u001b[0m\u001b[1;36m1\u001b[0m\u001b[1;33m+\u001b[0m\u001b[0mexpit\u001b[0m\u001b[1;33m(\u001b[0m\u001b[1;33m-\u001b[0m\u001b[0mx\u001b[0m\u001b[1;33m)\u001b[0m\u001b[1;33m)\u001b[0m\u001b[1;33m\u001b[0m\u001b[0m\n\u001b[0m\u001b[0;32m      3\u001b[0m \u001b[1;33m\u001b[0m\u001b[0m\n\u001b[0;32m      4\u001b[0m \u001b[1;32mdef\u001b[0m \u001b[0mder_sigmoid\u001b[0m\u001b[1;33m(\u001b[0m\u001b[0mx\u001b[0m\u001b[1;33m)\u001b[0m\u001b[1;33m:\u001b[0m\u001b[1;33m\u001b[0m\u001b[0m\n\u001b[0;32m      5\u001b[0m     \u001b[1;32mreturn\u001b[0m \u001b[1;36m1\u001b[0m\u001b[1;33m*\u001b[0m\u001b[1;33m(\u001b[0m\u001b[1;36m1\u001b[0m\u001b[1;33m-\u001b[0m\u001b[0mx\u001b[0m\u001b[1;33m)\u001b[0m\u001b[1;33m\u001b[0m\u001b[0m\n",
      "\u001b[1;31mKeyboardInterrupt\u001b[0m: "
     ]
    }
   ],
   "source": [
    "def sigmoid(x):\n",
    "    return 1/(1+expit(-x))\n",
    "\n",
    "def der_sigmoid(x):\n",
    "    return 1*(1-x)\n",
    "\n",
    "input_layer_neurons = X.shape[1] # 3\n",
    "hiddenlayer_neurons = 3\n",
    "output_neurons = size\n",
    "\n",
    "wh = np.random.uniform(size = (input_layer_neurons, hiddenlayer_neurons))\n",
    "bh = np.random.uniform(size = (1, hiddenlayer_neurons))\n",
    "wout = np.random.uniform(size = (hiddenlayer_neurons, output_neurons))\n",
    "bout = np.random.uniform(size = (1, output_neurons))\n",
    "\n",
    "for i in range(epoch):\n",
    "    # Forward propagation\n",
    "    hidden_layer_input1 = np.dot(X,wh)\n",
    "    hidden_layer_input = hidden_layer_input1 + bh\n",
    "    hidden_layer_activations = sigmoid(hidden_layer_input)\n",
    "    output_layer_input1 = np.dot(hidden_layer_activations, wout)\n",
    "    output_layer_input = output_layer_input1 + bout\n",
    "    output = sigmoid(output_layer_input)\n",
    "\n",
    "    # Backpropagation\n",
    "    E = y-output\n",
    "    slope_output_layer = der_sigmoid(output)\n",
    "    slope_hidden_layer = der_sigmoid(hidden_layer_activations)\n",
    "    d_output = E * slope_output_layer\n",
    "    Error_at_hidden_layer = d_output.dot(wout.T)\n",
    "    d_hiddenlayer = Error_at_hidden_layer * slope_hidden_layer\n",
    "    wout += hidden_layer_activations.T.dot(d_output) * lr\n",
    "    bout += np.sum(d_output, axis=0, keepdims = True) * lr\n",
    "    wh += X.T.dot(d_hiddenlayer) * lr\n",
    "    bh += np.sum(d_hiddenlayer, axis=0, keepdims = True) * lr\n",
    "\n",
    "print(output)"
   ]
  },
  {
   "cell_type": "code",
   "execution_count": null,
   "metadata": {},
   "outputs": [],
   "source": []
  }
 ],
 "metadata": {
  "kernelspec": {
   "display_name": "Environment (conda_revdict)",
   "language": "python",
   "name": "conda_revdict"
  },
  "language_info": {
   "codemirror_mode": {
    "name": "ipython",
    "version": 3
   },
   "file_extension": ".py",
   "mimetype": "text/x-python",
   "name": "python",
   "nbconvert_exporter": "python",
   "pygments_lexer": "ipython3",
   "version": "3.6.4"
  }
 },
 "nbformat": 4,
 "nbformat_minor": 2
}
