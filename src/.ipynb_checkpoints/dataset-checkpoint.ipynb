{
 "cells": [
  {
   "cell_type": "markdown",
   "metadata": {},
   "source": [
    "# __creating and cleaning dataset - definitions.csv__\n",
    "1. [creating dataset - definitions.csv](#creating-definitions.csv)\n",
    "2. [drop words without definitions and definitions without words](#drop-words-without-definitions-and-definitions-without-words)\n",
    "3. [remove special characters](#remove-special-characters)\n",
    "    * [retrieve special characters](#retrieve-special-characters)\n",
    "    * [delete special characters](#delete-special-characters)\n",
    "4. [extract words without definition from dataset and save to missing-words.csv](#extract-words-from-definitions-which-have-no-definition-in-dataset-and-save-to-missing-words.csv)"
   ]
  },
  {
   "cell_type": "markdown",
   "metadata": {},
   "source": [
    "### creating definitions.csv\n",
    "---"
   ]
  },
  {
   "cell_type": "code",
   "execution_count": null,
   "metadata": {},
   "outputs": [],
   "source": [
    "import pandas as pd\n",
    "from lib.connect_db import get_engine\n",
    "from lib.print_error import print_error\n",
    "from nltk.corpus import stopwords"
   ]
  },
  {
   "cell_type": "code",
   "execution_count": null,
   "metadata": {},
   "outputs": [],
   "source": [
    "engine, meta = get_engine()\n",
    "\n",
    "df = pd.read_sql(\"definitions\", engine)\n",
    "df.to_csv(\"db/definitions.csv\", sep=\":\", columns = [\"word\", \"definition\"], header = False, index=False, mode = \"w\")"
   ]
  },
  {
   "cell_type": "markdown",
   "metadata": {},
   "source": [
    "### drop words without definitions and definitions without words\n",
    "---"
   ]
  },
  {
   "cell_type": "code",
   "execution_count": null,
   "metadata": {},
   "outputs": [],
   "source": [
    "df = pd.read_csv(\"db/definitions.csv\", names=[\"word\",\"definition\"], sep=\":\", index_col=None, keep_default_na=False, na_values=[\"\"])\n",
    "words = pd.DataFrame(columns=[\"word\"], index=None)\n",
    "\n",
    "ww = pd.isnull(df['word'])\n",
    "\n",
    "null_word_indices = []\n",
    "for id,w in enumerate(ww):\n",
    "    if w is True:\n",
    "        null_word_indices.append(id)\n",
    "\n",
    "dd = pd.isnull(df['definition'])\n",
    "null_def_indices = []\n",
    "for id,d in enumerate(dd):\n",
    "    if d is True:\n",
    "        null_def_indices.append(id)\n",
    "\n",
    "for el in null_word_indices:\n",
    "    if el in null_def_indices:\n",
    "        null_def_indices.remove(el)\n",
    "\n",
    "print(\"df info before deletion - \")\n",
    "print(df.info())\n",
    "print(\"\\n\")\n",
    "\n",
    "df = df.drop(null_word_indices, inplace=False)\n",
    "df = df.drop(null_def_indices, inplace=False)\n",
    "df = df.reset_index(drop=True)\n",
    "\n",
    "print(\"df info after deletion - \")\n",
    "print(\"*\"*10)\n",
    "print(df.info())\n",
    "\n",
    "df.to_csv(\"db/definitions.csv\", sep=\":\", columns=[\"word\",\"definition\"], header=False, index=False, mode=\"w\")\n"
   ]
  },
  {
   "cell_type": "markdown",
   "metadata": {},
   "source": [
    "### remove special characters\n",
    "---\n",
    "this section is divided into two parts -\n",
    "* retrieve special characters\n",
    "* delete special characters"
   ]
  },
  {
   "cell_type": "markdown",
   "metadata": {},
   "source": [
    "#### retrieve special characters"
   ]
  },
  {
   "cell_type": "code",
   "execution_count": null,
   "metadata": {},
   "outputs": [],
   "source": [
    "df = pd.read_csv(\"db//definitions.csv\", names=['word','definition'], sep=\":\", index_col=None, keep_default_na=False, na_values=[\"\"])\n",
    "\n",
    "special_chars = []\n",
    "\n",
    "\n",
    "def get_special_chars(defi):\n",
    "    for d in list(defi):\n",
    "        if (ord(d) < 48 and ord(d) != 32) or (ord(d) > 57 and ord(d)<65) or (ord(d) >90 and ord(d) < 97) or ord(d) > 122:\n",
    "            if d not in special_chars:\n",
    "                special_chars.append(d)\n",
    "    return\n",
    "\n",
    "df[\"definition\"].apply(get_special_chars)\n",
    "\n",
    "special_chars.remove(\";\")\n",
    "\n",
    "print(special_chars)\n"
   ]
  },
  {
   "cell_type": "markdown",
   "metadata": {},
   "source": [
    "#### delete special characters"
   ]
  },
  {
   "cell_type": "code",
   "execution_count": null,
   "metadata": {},
   "outputs": [],
   "source": [
    "df = pd.read_csv(\"db/definitions.csv\", names=['word','definition'], sep=\":\", index_col=None, keep_default_na=False, na_values=[\"\"])\n",
    "\n",
    "def remove_special_chars(defi):\n",
    "    for s in special_chars:\n",
    "        defi = \" \".join(defi.split(s))\n",
    "    index = 0\n",
    "    defi = list(defi)\n",
    "    while index < len(defi)-1:\n",
    "        if defi[index] == \" \" and defi[index+1] == \" \":\n",
    "            del defi[index]\n",
    "        else:\n",
    "            index += 1\n",
    "    return \"\".join(defi)\n",
    "\n",
    "\n",
    "df[\"definition\"] = df[\"definition\"].apply(remove_special_chars)\n",
    "df.to_csv(\"db/definitions.csv\", sep=\":\", columns=[\"word\",\"definition\"], header=False, index=False, mode=\"w\")"
   ]
  },
  {
   "cell_type": "markdown",
   "metadata": {},
   "source": [
    "### split definitions based on ';'\n",
    "---"
   ]
  },
  {
   "cell_type": "code",
   "execution_count": null,
   "metadata": {},
   "outputs": [],
   "source": [
    "df = pd.read_csv(\"db/definitions.csv\", names=[\"word\",\"definition\"], sep=\":\", index_col=None, keep_default_na=False, na_values=[\"\"])\n",
    "final_df = pd.DataFrame(columns=[\"word\",\"definition\"], index=None)\n",
    "\n",
    "print(df.info())\n",
    "print(\"*\"*20)\n",
    "\n",
    "drop_indices = []\n",
    "\n",
    "def split_defs(row):\n",
    "    global final_df, df\n",
    "    \n",
    "    index = row.name\n",
    "    definition = row['definition']\n",
    "    definition_list = list(definition)\n",
    "    \n",
    "    if \";\" in definition_list:\n",
    "        drop_indices.append(index)\n",
    "        new_definitions = definition.split(\";\")\n",
    "        new_definitions = [d.strip() for d in new_definitions]\n",
    "        # index = df.loc[df[\"definition\"] == definition][\"word\"].index\n",
    "        # index = index[0]\n",
    "        for dd in new_definitions:\n",
    "            final_df = final_df.append({\"word\":df.word[index], \"definition\":dd}, ignore_index=True)\n",
    "\n",
    "            \n",
    "df.apply(split_defs,axis=1)\n",
    "\n",
    "print(\"\\n\")\n",
    "print(\"total words splitted: \", str(len(drop_indices)))\n",
    "print(\"\\n\")\n",
    "\n",
    "df = df.drop(drop_indices)\n",
    "df = df.reset_index()\n",
    "\n",
    "\n",
    "print(\"*\"*20)\n",
    "print(\"resultant df - \")\n",
    "print(df.info())\n",
    "\n",
    "df.to_csv(\"db/definitions.csv\", sep=\":\", columns=[\"word\",\"definition\"], header=False, index=False, mode=\"w\")\n",
    "\n",
    "final_df.to_csv(\"db/split-definitions.csv\", sep=\":\", columns=[\"word\",\"definition\"], header=False, index=False, mode=\"w\")\n",
    "print(\"*\"*20)\n",
    "print(\"Done\")"
   ]
  },
  {
   "cell_type": "markdown",
   "metadata": {},
   "source": [
    "#### **concat definitons.csv and split-definitions.csv**"
   ]
  },
  {
   "cell_type": "code",
   "execution_count": null,
   "metadata": {},
   "outputs": [],
   "source": [
    "def concat_dfs(dfs):\n",
    "    for df in dfs:\n",
    "        print(\"\\n\")\n",
    "        print(split_df.info())\n",
    "        print(\"*\"*20)\n",
    "\n",
    "    print(\"\\nconcatenating dfs..\")\n",
    "    return pd.concat(dfs)"
   ]
  },
  {
   "cell_type": "code",
   "execution_count": null,
   "metadata": {},
   "outputs": [],
   "source": [
    "split_df = pd.read_csv(\"db/split-definitions.csv\", names=[\"word\",\"definition\"], sep=\":\", index_col=None, keep_default_na=False, na_values=[\"\"])\n",
    "df = pd.read_csv(\"db/definitions.csv\", names=[\"word\",\"definition\"], sep=\":\", index_col=None, keep_default_na=False, na_values=[\"\"])\n",
    "\n",
    "resultant_df = concat_dfs([split_df, df])\n",
    "resultant_df.to_csv(\"db/definitions.csv\", sep=\":\", columns=[\"word\",\"definition\"], header=False, index=False, mode=\"w\")"
   ]
  },
  {
   "cell_type": "markdown",
   "metadata": {},
   "source": [
    "#### **remove words without definitions**\n",
    "\n",
    "the code already exists [above](#drop-words-without-definitions-and-definitions-without-words). Re-run it to remove null values"
   ]
  },
  {
   "cell_type": "markdown",
   "metadata": {},
   "source": [
    "###  extract words from column definition which have no definition in dataset; save to missing-words.csv\n",
    "---\n",
    "\n",
    "#### Tasks\n",
    "- create a dataset by splitting definition column and obtaining all columns\n",
    "- remove numbers from the dataset\n",
    "- convert all words to lowercase in all datasets obtained\n",
    "- remove words whose meaning exists\n",
    "- stem words"
   ]
  },
  {
   "cell_type": "markdown",
   "metadata": {},
   "source": [
    "#### create a dataset by splitting definition column and obtaining all columns"
   ]
  },
  {
   "cell_type": "code",
   "execution_count": null,
   "metadata": {
    "slideshow": {
     "slide_type": "-"
    }
   },
   "outputs": [],
   "source": [
    "df = pd.read_csv(\"db/definitions.csv\", names=[\"word\",\"definition\"], sep=\":\", index_col=None, keep_default_na=False, na_values=[\"\"])\n",
    "\n",
    "print(df.info())\n",
    "print(\"*\"*20)\n",
    "\n",
    "def missing_words(definition):\n",
    "    for d in str(definition).split():\n",
    "        defi_df = pd.DataFrame(columns=[\"words\"], index=None)\n",
    "        defi_df = defi_df.append({\"words\":d}, ignore_index=True)\n",
    "        defi_df.to_csv(\"db/missing-defs-temp.csv\", sep=\":\", columns=[\"word\"], header=False, index=False, mode=\"a\")        \n",
    "    \n",
    "df[\"definition\"].apply(missing_words)"
   ]
  },
  {
   "cell_type": "markdown",
   "metadata": {},
   "source": [
    "#### split dataset"
   ]
  },
  {
   "cell_type": "code",
   "execution_count": null,
   "metadata": {},
   "outputs": [],
   "source": [
    "df = pd.read_csv(\"db/missing-defs-temp.csv\", names=[\"word\"], sep=\":\", index_col=None, keep_default_na=False, na_values=[\"\"])\n",
    "\n",
    "print(\"main df -\")\n",
    "print(df.info())\n",
    "print(\"*\"*30)\n",
    "print(\"\\n\")\n",
    "\n",
    "df1 = df[:50000]\n",
    "df2 = df[50000:100000]\n",
    "df3 = df[100000:]\n",
    "\n",
    "print(\"df1 -\")\n",
    "print(df1.info())\n",
    "print(\"*\"*30)\n",
    "print(\"\\n\")\n",
    "\n",
    "print(\"df2 -\")\n",
    "print(df2.info())\n",
    "print(\"*\"*30)\n",
    "print(\"\\n\")\n",
    "\n",
    "print(\"df3 -\")\n",
    "print(df3.info())\n",
    "print(\"*\"*30)\n",
    "print(\"\\n\")"
   ]
  },
  {
   "cell_type": "code",
   "execution_count": null,
   "metadata": {},
   "outputs": [],
   "source": [
    "# write to file\n",
    "df1.to_csv(\"db/missing-defs-temp-1.csv\", sep=\":\", columns=[\"word\"], header=False, index=False, mode=\"w\")        \n",
    "df2.to_csv(\"db/missing-defs-temp-2.csv\", sep=\":\", columns=[\"word\"], header=False, index=False, mode=\"w\")        \n",
    "df3.to_csv(\"db/missing-defs-temp-3.csv\", sep=\":\", columns=[\"word\"], header=False, index=False, mode=\"w\")        \n"
   ]
  },
  {
   "cell_type": "markdown",
   "metadata": {},
   "source": [
    "#### remove numbers from the dataset"
   ]
  },
  {
   "cell_type": "code",
   "execution_count": 27,
   "metadata": {},
   "outputs": [],
   "source": [
    "drop_indices_of_int = []\n",
    "def treat_numbers(row):\n",
    "    index = row.name\n",
    "    try:\n",
    "        int(row[\"word\"])\n",
    "    except ValueError:\n",
    "        drop_indices_of_int.append(index)\n",
    "    return"
   ]
  },
  {
   "cell_type": "code",
   "execution_count": 28,
   "metadata": {},
   "outputs": [],
   "source": [
    "def treat_numbers_caller(df):\n",
    "    df.apply(treat_numbers, axis=1)\n",
    "    return\n",
    "\n",
    "df1 = pd.read_csv(\"db/missing-defs-temp-1.csv\", names=[\"word\"], sep=\":\", index_col=None, keep_default_na=False, na_values=[\"\"])\n",
    "print(df1.info())\n",
    "print(\"*\"*20)\n",
    "\n",
    "treat_numbers_caller(df1)\n",
    "\n",
    "df1 = df1.drop(drop_indices_of_int)\n",
    "df1 = df1.reset_index()\n",
    "print(\"after removing numbers - \")\n",
    "print(df1.info())"
   ]
  },
  {
   "cell_type": "markdown",
   "metadata": {},
   "source": [
    "\n",
    "#### **concat missing-defs.csv and missing-defs-temp.csv**"
   ]
  },
  {
   "cell_type": "code",
   "execution_count": null,
   "metadata": {},
   "outputs": [],
   "source": [
    "missing_temp_df = pd.read_csv(\"db/missing-defs-temp.csv\", names=[\"word\",\"definition\"], sep=\":\", index_col=None, keep_default_na=False, na_values=[\"\"])\n",
    "missing_df = pd.read_csv(\"db/missing-defs.csv\", names=[\"word\",\"definition\"], sep=\":\", index_col=None, keep_default_na=False, na_values=[\"\"])\n",
    "\n",
    "result_df = concat_dfs([missing_temp_df, missing_df])\n",
    "print(\"\\nresultant df after concatenating missing-defs.csv and missing-defs-temp.csv..\")\n",
    "print(result_df.info())\n"
   ]
  }
 ],
 "metadata": {
  "kernelspec": {
   "display_name": "Environment (conda_revdict)",
   "language": "python",
   "name": "conda_revdict"
  },
  "language_info": {
   "codemirror_mode": {
    "name": "ipython",
    "version": 3
   },
   "file_extension": ".py",
   "mimetype": "text/x-python",
   "name": "python",
   "nbconvert_exporter": "python",
   "pygments_lexer": "ipython3",
   "version": "3.6.4"
  }
 },
 "nbformat": 4,
 "nbformat_minor": 2
}
