{
 "cells": [
  {
   "cell_type": "code",
   "execution_count": null,
   "metadata": {},
   "outputs": [],
   "source": [
    "df = pd.DataFrame([[1,2],[3,4],[1,2]], columns= [\"one\",\"two\"])\n",
    "def func(row):\n",
    "    print(row.name)\n",
    "print(df)\n",
    "df['d'] = df.apply(func,axis=1)"
   ]
  },
  {
   "cell_type": "code",
   "execution_count": null,
   "metadata": {},
   "outputs": [],
   "source": [
    "df = pd.DataFrame([[1,2],[3,4],[1,2]], columns= [\"one\",\"two\"], index=None)\n",
    "index = df.loc[df[\"one\"] == 1].index\n",
    "index = df[0]\n",
    "print(index)\n",
    "df = df.drop(df.index[index])\n",
    "df = df.reset_index()\n",
    "# val = df.loc[df[\"one\"] == 3][\"two\"].item()\n",
    "# print(val)\n",
    "print(df.info())"
   ]
  }
 ],
 "metadata": {
  "kernelspec": {
   "display_name": "Environment (conda_revdict)",
   "language": "python",
   "name": "conda_revdict"
  },
  "language_info": {
   "codemirror_mode": {
    "name": "ipython",
    "version": 3
   },
   "file_extension": ".py",
   "mimetype": "text/x-python",
   "name": "python",
   "nbconvert_exporter": "python",
   "pygments_lexer": "ipython3",
   "version": "3.6.4"
  }
 },
 "nbformat": 4,
 "nbformat_minor": 2
}
