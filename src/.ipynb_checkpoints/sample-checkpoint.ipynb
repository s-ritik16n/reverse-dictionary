{
 "cells": [
  {
   "cell_type": "code",
   "execution_count": 50,
   "metadata": {},
   "outputs": [],
   "source": [
    "import pandas as pd\n",
    "from lib.connect_db import get_engine\n",
    "from lib.print_error import print_error\n",
    "from nltk.corpus import stopwords\n",
    "import inflect\n",
    "p = inflect.engine()"
   ]
  },
  {
   "cell_type": "code",
   "execution_count": 51,
   "metadata": {},
   "outputs": [
    {
     "name": "stdout",
     "output_type": "stream",
     "text": [
      "<class 'pandas.core.frame.DataFrame'>\n",
      "RangeIndex: 1000 entries, 0 to 999\n",
      "Data columns (total 2 columns):\n",
      "word          1000 non-null object\n",
      "definition    1000 non-null object\n",
      "dtypes: object(2)\n",
      "memory usage: 15.7+ KB\n",
      "None\n"
     ]
    }
   ],
   "source": [
    "df_main = pd.read_csv(\"db/definitions.csv\", names=[\"word\",\"definition\"], sep=\":\", index_col=None, keep_default_na=False, na_values=[\"\"])\n",
    "df = df_main[:1000]\n",
    "df.to_csv(\"db/sample/sample.csv\", sep=\":\", columns=[\"word\",\"definition\"], header=False, index=False, mode=\"w\")\n",
    "print(df.info())"
   ]
  },
  {
   "cell_type": "markdown",
   "metadata": {},
   "source": [
    "#### find meanings for words present in definition columns of df and append the df, save to sample-1.csv, save non-existing to not_found.csv"
   ]
  },
  {
   "cell_type": "code",
   "execution_count": 52,
   "metadata": {},
   "outputs": [
    {
     "name": "stdout",
     "output_type": "stream",
     "text": [
      "df after appending - \n",
      "<class 'pandas.core.frame.DataFrame'>\n",
      "RangeIndex: 2150 entries, 0 to 2149\n",
      "Data columns (total 2 columns):\n",
      "word          2150 non-null object\n",
      "definition    2150 non-null object\n",
      "dtypes: object(2)\n",
      "memory usage: 33.7+ KB\n",
      "None\n",
      "\n",
      "number of words without definition - \n",
      "706\n"
     ]
    }
   ],
   "source": [
    "trivial_words = []\n",
    "\n",
    "def treat_word(row):\n",
    "    global df\n",
    "    index = row.name\n",
    "    for word in row.definition.split():\n",
    "        if not any(df[\"word\"] == word):\n",
    "            if any(df_main[\"word\"] == word):\n",
    "                df = df.append({\"word\":word, \"definition\": df_main[\"definition\"]}, ignore_index=True)\n",
    "            else:\n",
    "                trivial_words.append(word)\n",
    "\n",
    "df.apply(treat_word, axis=1)\n",
    "print(\"df after appending - \")\n",
    "print(df.info())\n",
    "\n",
    "print(\"\\nnumber of words without definition - \")\n",
    "print(len(trivial_words))"
   ]
  },
  {
   "cell_type": "code",
   "execution_count": 53,
   "metadata": {},
   "outputs": [],
   "source": [
    "df_trivial = pd.DataFrame({'word': trivial_words}, index=None)\n",
    "df_trivial.to_csv(\"db/sample/not_found.csv\", columns=[\"word\"], header=False, index=False, mode=\"w\")\n",
    "df.to_csv(\"db/sample/sample-1.csv\", columns=[\"word\"], header=False, index=False, mode=\"w\")"
   ]
  },
  {
   "cell_type": "code",
   "execution_count": 44,
   "metadata": {},
   "outputs": [
    {
     "name": "stdout",
     "output_type": "stream",
     "text": [
      "<class 'pandas.core.frame.DataFrame'>\n",
      "RangeIndex: 706 entries, 0 to 705\n",
      "Data columns (total 1 columns):\n",
      "word    706 non-null object\n",
      "dtypes: object(1)\n",
      "memory usage: 5.6+ KB\n",
      "None\n"
     ]
    }
   ],
   "source": [
    "print(df_trivial.info())"
   ]
  },
  {
   "cell_type": "markdown",
   "metadata": {},
   "source": [
    "#### convert plural to singular, search in definitons, if exists, save to sample-2.csv, save non existent to not-found.csv"
   ]
  },
  {
   "cell_type": "code",
   "execution_count": 45,
   "metadata": {},
   "outputs": [],
   "source": [
    "def convert_to_singular(word):\n",
    "    if p.singular_noun(word) != False:\n",
    "        return p.singular_noun(word)\n",
    "    return word"
   ]
  },
  {
   "cell_type": "code",
   "execution_count": 49,
   "metadata": {},
   "outputs": [
    {
     "name": "stdout",
     "output_type": "stream",
     "text": [
      "found words df - \n",
      "<class 'pandas.core.frame.DataFrame'>\n",
      "RangeIndex: 138 entries, 0 to 137\n",
      "Data columns (total 2 columns):\n",
      "word          138 non-null object\n",
      "definition    138 non-null object\n",
      "dtypes: object(2)\n",
      "memory usage: 2.2+ KB\n",
      "None\n",
      "\n",
      "not found words df - \n",
      "<class 'pandas.core.frame.DataFrame'>\n",
      "Int64Index: 292 entries, 0 to 704\n",
      "Data columns (total 1 columns):\n",
      "word    292 non-null object\n",
      "dtypes: object(1)\n",
      "memory usage: 4.6+ KB\n",
      "None\n"
     ]
    }
   ],
   "source": [
    "df_trivial = pd.read_csv(\"db/sample/not_found.csv\", names=[\"word\"], index_col=None, keep_default_na=False, na_values=[\"\"])\n",
    "sample_1 = pd.read_csv(\"db/sample/sample-1.csv\", names=[\"word\" \"definition\"], index_col=None, keep_default_na=False, na_values=[\"\"])\n",
    "definitions = pd.read_csv(\"db/sample/definitions.csv\", names=[\"word\", \"definition\"], index_col=None, keep_default_na=False, na_values=[\"\"])\n",
    "\n",
    "def treat_plurals(word):\n",
    "    global df\n",
    "    singular_word = p.singular(word)\n",
    "    if singular_word != False:\n",
    "        if any(df_main[\"word\"] == word):\n",
    "            df = df.append({\"word\": word, \"definition\": df_main[\"definition\"]})\n",
    "\n",
    "# df_non_trivial = pd.DataFrame(columns=[\"word\"], index=None)\n",
    "# df_non_trivial_final = pd.DataFrame(columns=[\"word\", \"definition\"], index=None)\n",
    "\n",
    "def filter_converted(word):\n",
    "    global df_non_trivial\n",
    "    if word != False:\n",
    "        df_non_trivial = df_non_trivial.append({\"word\": word}, ignore_index=True)\n",
    "    return\n",
    "\n",
    "df_trivial[\"word\"].apply(filter_converted)\n",
    "df_non_trivial = df_non_trivial.drop_duplicates(keep = 'first')\n",
    "\n",
    "def treat_word2(row):\n",
    "    index = row.name\n",
    "    word = row[\"word\"]\n",
    "    global df_non_trivial_final\n",
    "    global df_trivial\n",
    "    if any(df_main[\"word\"] == word):\n",
    "        df_non_trivial_final = df_non_trivial_final.append({\"word\":word, \"definition\": df_main[\"definition\"]}, ignore_index=True)\n",
    "        df_trivial = df_trivial.drop(index)\n",
    "    \n",
    "df_non_trivial.apply(treat_word2, axis=1)\n",
    "print(\"found words df - \")\n",
    "print(df_non_trivial_final.info())\n",
    "\n",
    "df_trivial = df_trivial.reset_index()\n",
    "df_trivial = df_trivial.drop_duplicates(keep = 'first')\n",
    "print(\"\\nnot found words df - \")\n",
    "print(df_trivial.info())\n",
    "df_non_trivial.to_csv(\"db/sample/sample-2.csv\", columns=[\"word\"], header=False, index=False, mode=\"w\")    \n",
    "df_trivial.to_csv(\"db/sample/not-found.csv\", columns=[\"word\"], header=False, index=False, mode=\"w\")      "
   ]
  },
  {
   "cell_type": "code",
   "execution_count": null,
   "metadata": {},
   "outputs": [],
   "source": [
    "df_main = pd.read_csv(\"db/definitions.csv\", names=[\"word\",\"definition\"], sep=\":\", index_col=None, keep_default_na=False, na_values=[\"\"])\n",
    "df_trivial = pd.read_csv(\"db/sample/sample-1.csv\", names=[\"word\"], index_col=None, keep_default_na=False, na_values=[\"\"])\n",
    "\n",
    "df_non_trivial = pd.DataFrame(columns=[\"word\"], index=None)\n",
    "\n",
    "def add_plural(word):\n",
    "    global df_non_trivial\n",
    "    plural_word = p.singular_noun(word)\n",
    "    if plural_word != False:\n",
    "        \n",
    "    return\n",
    "\n",
    "df_trivial.apply(add_plural)"
   ]
  },
  {
   "cell_type": "code",
   "execution_count": null,
   "metadata": {},
   "outputs": [],
   "source": []
  }
 ],
 "metadata": {
  "kernelspec": {
   "display_name": "Environment (conda_revdict)",
   "language": "python",
   "name": "conda_revdict"
  },
  "language_info": {
   "codemirror_mode": {
    "name": "ipython",
    "version": 3
   },
   "file_extension": ".py",
   "mimetype": "text/x-python",
   "name": "python",
   "nbconvert_exporter": "python",
   "pygments_lexer": "ipython3",
   "version": "3.6.4"
  }
 },
 "nbformat": 4,
 "nbformat_minor": 2
}
