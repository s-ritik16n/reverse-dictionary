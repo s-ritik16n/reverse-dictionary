{
 "cells": [
  {
   "cell_type": "markdown",
   "metadata": {},
   "source": [
    "df_definitions  --> defintions.csv\n",
    "\n",
    "df_1000 --> 1000.csv\n",
    "\n",
    "df_1000_plus --> 1000_plus.csv\n",
    "\n",
    "df_nf --> nf.csv\n",
    "\n",
    "df_nf_post_plural --> nf_post_plural.csv"
   ]
  },
  {
   "cell_type": "code",
   "execution_count": 4,
   "metadata": {},
   "outputs": [],
   "source": [
    "import pandas as pd\n",
    "from lib.connect_db import get_engine\n",
    "from lib.print_error import print_error\n",
    "from nltk.corpus import stopwords\n",
    "import inflect\n",
    "\n",
    "p = inflect.engine()"
   ]
  },
  {
   "cell_type": "code",
   "execution_count": 13,
   "metadata": {},
   "outputs": [],
   "source": [
    "df_definitions = pd.read_csv(\"db/definitions.csv\", names=[\"word\",\"definition\"], sep=\":\", index_col=None, keep_default_na=False, na_values=[\"\"])\n",
    "df_1000 = None\n",
    "df_1000_plus = None\n",
    "df_nf = pd.DataFrame(columns=[\"word\"], index=None)\n",
    "df_nf_post_plural = None"
   ]
  },
  {
   "cell_type": "markdown",
   "metadata": {},
   "source": [
    "### tasks#1\n",
    "\n",
    "+ extract 1000 rows from df_definitions\n",
    "+ save to 1000.csv,\n",
    "+ initialize df_1000"
   ]
  },
  {
   "cell_type": "code",
   "execution_count": 14,
   "metadata": {},
   "outputs": [],
   "source": [
    "df_1000 = df_definitions[:1000]\n",
    "df_1000.to_csv(\"db/sample/1000.csv\", sep=\":\", columns=[\"word\",\"definition\"], header=False, index=False, mode=\"w\")"
   ]
  },
  {
   "cell_type": "markdown",
   "metadata": {},
   "source": [
    "### tasks#2\n",
    "\n",
    "+ split each definition in df_1000 into words\n",
    "+ check if word exists as a row in df_1000\n",
    "+ if it doesn't - check if it exists in df_definitions\n",
    "+ if it does - fetch the row - add to df_1000\n",
    "+ it it doesn't - create data frame df_nf\n",
    "+ save updated df_1000 to sample/1000_plus.csv\n",
    "+ save df_nf to sample/nf.csv"
   ]
  },
  {
   "cell_type": "code",
   "execution_count": 15,
   "metadata": {},
   "outputs": [
    {
     "name": "stdout",
     "output_type": "stream",
     "text": [
      "df_1000 before applying split_and_check - \n",
      "<class 'pandas.core.frame.DataFrame'>\n",
      "RangeIndex: 1000 entries, 0 to 999\n",
      "Data columns (total 2 columns):\n",
      "word          1000 non-null object\n",
      "definition    1000 non-null object\n",
      "dtypes: object(2)\n",
      "memory usage: 15.7+ KB\n",
      "None\n",
      "\n",
      "df_1000 after applying split_and_check -  \n",
      "<class 'pandas.core.frame.DataFrame'>\n",
      "RangeIndex: 2150 entries, 0 to 2149\n",
      "Data columns (total 2 columns):\n",
      "word          2150 non-null object\n",
      "definition    2150 non-null object\n",
      "dtypes: object(2)\n",
      "memory usage: 33.7+ KB\n",
      "None\n",
      "\n",
      "df_nf contains words which were not found.\n",
      "df_nf - \n",
      "<class 'pandas.core.frame.DataFrame'>\n",
      "RangeIndex: 706 entries, 0 to 705\n",
      "Data columns (total 1 columns):\n",
      "word    706 non-null object\n",
      "dtypes: object(1)\n",
      "memory usage: 5.6+ KB\n",
      "None\n"
     ]
    }
   ],
   "source": [
    "def split_and_check(row):\n",
    "    global df_1000\n",
    "    global df_nf\n",
    "    index = row.name\n",
    "    for word in row.definition.split():\n",
    "        if not any(df_1000[\"word\"] == word):\n",
    "            if any(df_definitions[\"word\"] == word):\n",
    "                df_1000 = df_1000.append({\"word\":word,\"definition\": df_definitions[\"word\"]}, ignore_index=True)\n",
    "            else:\n",
    "                df_nf = df_nf.append({\"word\": word}, ignore_index=True)\n",
    "    return\n",
    "\n",
    "print(\"df_1000 before applying split_and_check - \")\n",
    "print(df_1000.info())\n",
    "df_1000.apply(split_and_check, axis=1)\n",
    "print(\"\\ndf_1000 after applying split_and_check -  \")\n",
    "print(df_1000.info())\n",
    "\n",
    "print(\"\\ndf_nf contains words which were not found.\\ndf_nf - \")\n",
    "print(df_nf.info())"
   ]
  },
  {
   "cell_type": "code",
   "execution_count": 16,
   "metadata": {},
   "outputs": [],
   "source": [
    "df_1000.to_csv(\"db/sample/1000_plus.csv\", sep=\":\", columns=[\"word\",\"definition\"], header=False, index=False, mode=\"w\")"
   ]
  },
  {
   "cell_type": "code",
   "execution_count": 17,
   "metadata": {},
   "outputs": [],
   "source": [
    "df_nf.to_csv(\"db/sample/not_found.csv\", sep=\":\", columns=[\"word\"], header=False, index=False, mode=\"w\")"
   ]
  },
  {
   "cell_type": "code",
   "execution_count": null,
   "metadata": {},
   "outputs": [],
   "source": []
  }
 ],
 "metadata": {
  "kernelspec": {
   "display_name": "Environment (conda_revdict)",
   "language": "python",
   "name": "conda_revdict"
  },
  "language_info": {
   "codemirror_mode": {
    "name": "ipython",
    "version": 3
   },
   "file_extension": ".py",
   "mimetype": "text/x-python",
   "name": "python",
   "nbconvert_exporter": "python",
   "pygments_lexer": "ipython3",
   "version": "3.6.4"
  }
 },
 "nbformat": 4,
 "nbformat_minor": 2
}
