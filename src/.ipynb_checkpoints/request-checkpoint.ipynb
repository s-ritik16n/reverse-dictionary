{
 "cells": [
  {
   "cell_type": "code",
   "execution_count": 2,
   "metadata": {},
   "outputs": [],
   "source": [
    "from bs4 import BeautifulSoup\n",
    "import requests as req\n",
    "import pandas as pd"
   ]
  },
  {
   "cell_type": "code",
   "execution_count": 3,
   "metadata": {},
   "outputs": [
    {
     "name": "stdout",
     "output_type": "stream",
     "text": [
      "<class 'pandas.core.frame.DataFrame'>\n",
      "RangeIndex: 91 entries, 0 to 90\n",
      "Data columns (total 2 columns):\n",
      "index    91 non-null int64\n",
      "word     91 non-null object\n",
      "dtypes: int64(1), object(1)\n",
      "memory usage: 1.5+ KB\n",
      "None\n"
     ]
    }
   ],
   "source": [
    "df_nf = pd.read_csv(\"db/sample/not_found_plus_plural_ing_req.csv\", names=[\"word\"], sep=\":\", index_col=None, keep_default_na=False, na_values=[\"\"])\n",
    "df_nf = df_nf.drop_duplicates(keep='first')\n",
    "df_nf = df_nf.reset_index()\n",
    "print(df_nf.info())\n",
    "proxies = {\"http\":\"http://web-proxy.houston.hpecorp.net:8080\", \"https\": \"http://web-proxy.houston.hpecorp.net:8080\"}\n",
    "url = \"http://services.aonaware.com/DictService/Default.aspx?action=define&dict=wn&query=\""
   ]
  },
  {
   "cell_type": "markdown",
   "metadata": {},
   "source": [
    "+ fetch words from api\n",
    "+ remove stopwords\n",
    "+ treat_ing\n",
    "+ for each definition "
   ]
  },
  {
   "cell_type": "code",
   "execution_count": null,
   "metadata": {},
   "outputs": [],
   "source": [
    "from nltk.corpus import stopwords\n",
    "\n",
    "def get_def(row):\n",
    "    index = row.name\n",
    "    word = row.word\n",
    "    request = url + row.word\n",
    "    r = req.get(request, proxies=proxies)\n",
    "    final = []\n",
    "    if r.text is not None:\n",
    "        soup = BeautifulSoup(r.text, \"html.parser\")\n",
    "        if soup.find_all(\"a\")[1].pre is not None:\n",
    "            for key, el in enumerate(soup.find_all(\"a\")[1].pre.text.split()):\n",
    "                if el == \":\":\n",
    "                    final = soup.find_all(\"a\")[1].pre.text.split()[key+1:]\n",
    "                    final = \" \".join(w for w in final if w not in stopwords)\n",
    "    print(word)\n",
    "    print(final)\n",
    "    print(\"*\"*10)\n",
    "\n",
    "stopwords = stopwords.words(\"english\")\n",
    "print(df_nf.info())\n",
    "df_nf.apply(get_def, axis=1)"
   ]
  },
  {
   "cell_type": "code",
   "execution_count": 15,
   "metadata": {},
   "outputs": [],
   "source": [
    "proxies = {\"http\":\"http://web-proxy.houston.hpecorp.net:8080\", \"https\": \"http://web-proxy.houston.hpecorp.net:8080\"}\n",
    "url = \"http://services.aonaware.com/DictService/Default.aspx?action=define&dict=wn&query=\""
   ]
  },
  {
   "cell_type": "code",
   "execution_count": null,
   "metadata": {},
   "outputs": [],
   "source": [
    "request = url + \"smeared\"\n",
    "r = req.get(request, proxies=proxies)\n",
    "soup = BeautifulSoup(r.text, \"html.parser\")\n",
    "print(soup.find_all(\"a\")[1].pre.text)"
   ]
  },
  {
   "cell_type": "code",
   "execution_count": 75,
   "metadata": {},
   "outputs": [
    {
     "name": "stdout",
     "output_type": "stream",
     "text": [
      "<class 'pandas.core.frame.DataFrame'>\n",
      "RangeIndex: 232 entries, 0 to 231\n",
      "Data columns (total 2 columns):\n",
      "word          232 non-null object\n",
      "definition    230 non-null object\n",
      "dtypes: object(2)\n",
      "memory usage: 3.7+ KB\n",
      "None\n",
      "<class 'pandas.core.frame.DataFrame'>\n",
      "RangeIndex: 232 entries, 0 to 231\n",
      "Data columns (total 2 columns):\n",
      "word          232 non-null object\n",
      "definition    230 non-null object\n",
      "dtypes: object(2)\n",
      "memory usage: 3.7+ KB\n",
      "None\n"
     ]
    }
   ],
   "source": [
    "df_nf = pd.read_csv(\"db/sample/untitled.csv\", names=[\"word\",\"definition\"], sep=\":\", index_col=None, keep_default_na=False, na_values=[\"\"])\n",
    "\n",
    "def split_syns(row):\n",
    "    global df_nf\n",
    "    original_line = str(row.definition)\n",
    "    line = original_line.split(\"[\")\n",
    "    definition = str(line[0])\n",
    "    if len(line) > 1:\n",
    "        line = line[-1]\n",
    "        line = line[:-1]\n",
    "        words = \"\".join(line.split()[1:]).split(\",\")\n",
    "        for word in words:\n",
    "            df_nf = df_nf.append({\"word\":word, \"definition\":definition}, ignore_index=True)\n",
    "    return\n",
    "\n",
    "print(df_nf.info())\n",
    "df_nf.apply(split_syns, axis=1)\n",
    "print(df_nf.info())\n",
    "df_nf.to_csv(\"db/sample/untitled2.csv\", sep=\":\", columns=[\"word\",\"definition\"], header=False, index=False, mode=\"w\")"
   ]
  },
  {
   "cell_type": "code",
   "execution_count": 14,
   "metadata": {},
   "outputs": [
    {
     "name": "stdout",
     "output_type": "stream",
     "text": [
      "<class 'pandas.core.frame.DataFrame'>\n",
      "RangeIndex: 232 entries, 0 to 231\n",
      "Data columns (total 2 columns):\n",
      "word          232 non-null object\n",
      "definition    232 non-null object\n",
      "dtypes: object(2)\n",
      "memory usage: 3.7+ KB\n",
      "None\n"
     ]
    }
   ],
   "source": [
    "df_nf = pd.read_csv(\"db/sample/untitled2.csv\", names=[\"word\",\"definition\"], sep=\":\", index_col=None, keep_default_na=False, na_values=[\"\"])\n",
    "print(df_nf.info())"
   ]
  },
  {
   "cell_type": "code",
   "execution_count": null,
   "metadata": {},
   "outputs": [],
   "source": []
  }
 ],
 "metadata": {
  "kernelspec": {
   "display_name": "Environment (conda_revdict)",
   "language": "python",
   "name": "conda_revdict"
  },
  "language_info": {
   "codemirror_mode": {
    "name": "ipython",
    "version": 3
   },
   "file_extension": ".py",
   "mimetype": "text/x-python",
   "name": "python",
   "nbconvert_exporter": "python",
   "pygments_lexer": "ipython3",
   "version": "3.6.4"
  }
 },
 "nbformat": 4,
 "nbformat_minor": 2
}
