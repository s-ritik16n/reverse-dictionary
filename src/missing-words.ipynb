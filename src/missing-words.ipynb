{
 "cells": [
  {
   "cell_type": "markdown",
   "metadata": {},
   "source": [
    "### find words in definitions which do not have a meaning"
   ]
  },
  {
   "cell_type": "code",
   "execution_count": 2,
   "metadata": {},
   "outputs": [],
   "source": [
    "import pandas as pd"
   ]
  },
  {
   "cell_type": "code",
   "execution_count": 3,
   "metadata": {},
   "outputs": [
    {
     "name": "stdout",
     "output_type": "stream",
     "text": [
      "<class 'pandas.core.frame.DataFrame'>\n",
      "RangeIndex: 117631 entries, 0 to 117630\n",
      "Data columns (total 2 columns):\n",
      "word          117627 non-null object\n",
      "definition    117631 non-null object\n",
      "dtypes: object(2)\n",
      "memory usage: 1.8+ MB\n"
     ]
    }
   ],
   "source": [
    "df = pd.read_csv(\"db/definitions.csv\", names=[\"word\",\"definition\"], sep=\":\", index_col = None)\n",
    "missing_definitions = []\n",
    "df.info()"
   ]
  },
  {
   "cell_type": "code",
   "execution_count": 50,
   "metadata": {},
   "outputs": [
    {
     "name": "stdout",
     "output_type": "stream",
     "text": [
      "     word                                         definition\n",
      "0   False  (usually followed `to') necessary means skill ...\n",
      "1   False  (usually followed `to') necessary means skill ...\n",
      "2   False                    facing away axis organ organism\n",
      "3   False          nearest facing toward axis organ organism\n",
      "4   False                            facing side toward apex\n",
      "5   False                            facing side toward base\n",
      "6   False  especially muscles; drawing away midline body ...\n",
      "7   False  especially muscles; bringing together drawing ...\n",
      "8   False                                     born beginning\n",
      "9   False                                   coming existence\n",
      "10  False             bursting open force, ripe seed vessels\n",
      "11  False                                       giving birth\n",
      "12  False            associated process passing life ceasing\n",
      "13  False                        point death; breathing last\n",
      "14  False                               occurring time death\n",
      "15  False        (used texts) shortened condensing rewriting\n",
      "16  False                                      parts removed\n",
      "17  False                      abridged half original length\n",
      "18  False             (British informal) summarized abridged\n",
      "19  False                             (used texts) shortened\n",
      "20  False                                           complete\n",
      "21  False                              perfect complete pure\n",
      "22  False    lacking compromising mitigating elements; exact\n",
      "23  False                              without doubt reserve\n",
      "24  False                                total all-embracing\n",
      "25  False                                (informal) absolute\n",
      "26  False            estimated comparison; absolute complete\n",
      "27  False                                   relation related\n",
      "28  False  power capacity tendency absorb soak something ...\n",
      "29  False                      inducing promoting absorption\n",
      "..    ...                                                ...\n",
      "70  False                     existing great number quantity\n",
      "71  False                   (of plant) lush unchecked growth\n",
      "72  False                                  growing profusely\n",
      "73  False                               excessively abundant\n",
      "74  False         abundantly filled especially living things\n",
      "75  False                                  pouring abundance\n",
      "76  False                    characterized abundance verdure\n",
      "77  False          deficient quantity number compared demand\n",
      "78  False                                 widely distributed\n",
      "79  False                 affected scarcity expensive borrow\n",
      "80  False                          subjected cruel treatment\n",
      "81  False  exhibiting symptoms resulting repeated physica...\n",
      "82  False                physically abused; treated properly\n",
      "83  False                     worthy acceptance satisfactory\n",
      "84  False                                    acceptable bank\n",
      "85  False     completely acceptable; open exception reproach\n",
      "86  False             objectionable; means one can't accept\"\n",
      "87  False                                acceptable; welcome\n",
      "88  False  liable objection debate; used something one mi...\n",
      "89  False                                    capable reached\n",
      "90  False                                  easily approached\n",
      "91  False                           capable reached attained\n",
      "92  False                                         easy reach\n",
      "93  False                   capable reached great difficulty\n",
      "94  False                   inaccessible sparsely populated;\n",
      "95  False                                   lacking pathways\n",
      "96  False                      inaccessibly located situated\n",
      "97  False                             difficult reach attain\n",
      "98  False             helpful bringing harmonious adaptation\n",
      "99  False         showing cheerful willingness favors others\n",
      "\n",
      "[100 rows x 2 columns]\n"
     ]
    }
   ],
   "source": [
    "def null_definitions(word):\n",
    "    defs = df.loc[df[\"word\"] == word]\n",
    "    missing_definitions.append(d for d in defs if d is None)\n",
    "    return\n",
    "\n",
    "# df[\"word\"].apply(null_definitions)\n",
    "# print(missing_definitions)\n",
    "\n",
    "df = df[:100]\n",
    "print(df)"
   ]
  },
  {
   "cell_type": "code",
   "execution_count": null,
   "metadata": {},
   "outputs": [],
   "source": []
  }
 ],
 "metadata": {
  "kernelspec": {
   "display_name": "Environment (conda_revdict)",
   "language": "python",
   "name": "conda_revdict"
  },
  "language_info": {
   "codemirror_mode": {
    "name": "ipython",
    "version": 3
   },
   "file_extension": ".py",
   "mimetype": "text/x-python",
   "name": "python",
   "nbconvert_exporter": "python",
   "pygments_lexer": "ipython3",
   "version": "3.6.4"
  }
 },
 "nbformat": 4,
 "nbformat_minor": 2
}
