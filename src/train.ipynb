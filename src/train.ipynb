{
 "cells": [
  {
   "cell_type": "code",
   "execution_count": 18,
   "metadata": {},
   "outputs": [],
   "source": [
    "word_list = pd.read_csv(\"db/sample/clean/def_col_vectors.csv\", names=[\"word\",\"word_vector\"], sep=\":\", index_col=None, keep_default_na=False, na_values=[\"\"])\n",
    "defs = pd.read_csv(\"db/sample/clean/def_col_vectors.csv\", names=[\"word\", \"word_vector\",\"definition\", \"def_vectors\"], sep=\":\", index_col=None, keep_default_na=False, na_values=[\"\"])\n",
    "\n",
    "\"\"\"\n",
    "size = len(word_list)\n",
    "X = []\n",
    "y = []\n",
    "\n",
    "\n",
    "\"\"\"\n",
    "def sigmoid(x):\n",
    "    return 1/(1+np.exp(-x))\n",
    "\n",
    "def derivate_sigmoid(x):\n",
    "    return 1*(1-x)\n"
   ]
  }
 ],
 "metadata": {
  "kernelspec": {
   "display_name": "Environment (conda_revdict)",
   "language": "python",
   "name": "conda_revdict"
  },
  "language_info": {
   "codemirror_mode": {
    "name": "ipython",
    "version": 3
   },
   "file_extension": ".py",
   "mimetype": "text/x-python",
   "name": "python",
   "nbconvert_exporter": "python",
   "pygments_lexer": "ipython3",
   "version": "3.6.4"
  }
 },
 "nbformat": 4,
 "nbformat_minor": 2
}
